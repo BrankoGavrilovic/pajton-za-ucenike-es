{
  "nbformat": 4,
  "nbformat_minor": 0,
  "metadata": {
    "colab": {
      "name": "Lekcija 4.  Manipulacije listom i vizuelizacija",
      "provenance": [],
      "collapsed_sections": [],
      "authorship_tag": "ABX9TyPTHBcbdpTPPrBsj9/7c9UK",
      "include_colab_link": true
    },
    "kernelspec": {
      "name": "python3",
      "display_name": "Python 3"
    },
    "language_info": {
      "name": "python"
    }
  },
  "cells": [
    {
      "cell_type": "markdown",
      "metadata": {
        "id": "view-in-github",
        "colab_type": "text"
      },
      "source": [
        "<a href=\"https://colab.research.google.com/github/BrankoGavrilovic/pajton-za-ucenike-es/blob/main/Lekcija_4_Manipulacije_listom_i_vizuelizacija.ipynb\" target=\"_parent\"><img src=\"https://colab.research.google.com/assets/colab-badge.svg\" alt=\"Open In Colab\"/></a>"
      ]
    },
    {
      "cell_type": "markdown",
      "source": [
        "U lekciji 3 smo naučili šta su to liste.U ovoj lekciji ćemo naučiti kako dalje da manipulišemo sa listom i kako da vizuelizujemo liste."
      ],
      "metadata": {
        "id": "pGe-ujU4tdQD"
      }
    },
    {
      "cell_type": "markdown",
      "source": [
        "Prva stvar koju ćemo naučiti je da pravimo liste. Liste možemo praviti direttnim navođenjem elemenata u listu kao što smo viideli u lekciji 3 ili automatizovanjem uz pomoć for petlje.Pogledajmo sledeći primer."
      ],
      "metadata": {
        "id": "O_4XaB8TuJo1"
      }
    },
    {
      "cell_type": "markdown",
      "source": [
        "Primer 1. Napiši program koji od korisnika traži da unese pet plata u  listu plate (konvertujući unos u ceo broj) a zatim ispisuje elemente liste plate."
      ],
      "metadata": {
        "id": "bXwVixuFy75y"
      }
    },
    {
      "cell_type": "code",
      "source": [
        "plate=[] # prvo pravimo praznu listu plate\n",
        "for i in range(5): # tražimo 5 puta\n",
        "   plata=int(input(\"Unesi platu: \")) # da korisnik unese platu\n",
        "   plate.append(plata)# unetu pltu dodaj u listu plate\n",
        "plate   # ispiši listu plate"
      ],
      "metadata": {
        "id": "OMJZ_CsDzK98"
      },
      "execution_count": null,
      "outputs": []
    },
    {
      "cell_type": "markdown",
      "source": [
        "Zadatak 2. Modifikuj program tako da od korisnika na početku traži da unese koliko plata želi da unese u listu plate a zatim i da napravi i ispiše listu plata koji sada mogu biti decimalni brojevi."
      ],
      "metadata": {
        "id": "k1xoGF9i1C98"
      }
    },
    {
      "cell_type": "code",
      "source": [
        "plate=[]\n",
        "n=int(input(\"Unesi broj elemenata liste plate: \"))# prisetimo se korisni;kog ulaza\n",
        "for i in range(n):\n",
        "   plata=#(input(\"Unesi platu: \")) #Umesto prve tarabe nappiši funkciju koja konvertuje ulaz u realan broj\n",
        "   plate.#(plata) # umesto tarabe napi[i funkciju ya dodavanje\n",
        "plate   \n"
      ],
      "metadata": {
        "id": "cN4lVmIc1oG4"
      },
      "execution_count": null,
      "outputs": []
    },
    {
      "cell_type": "markdown",
      "source": [
        "**Sortiranje liste**"
      ],
      "metadata": {
        "id": "PTd6KbUK5Odx"
      }
    },
    {
      "cell_type": "markdown",
      "source": [
        "Sortiranje liste se vrši funkcijom sorted( ukoliko ne želimo trajno sortiranje) ili sort ako želimo trajno. Pogledajmo primer. "
      ],
      "metadata": {
        "id": "ocra98zn5VE9"
      }
    },
    {
      "cell_type": "code",
      "execution_count": null,
      "metadata": {
        "id": "IsBIy4yNtDQd"
      },
      "outputs": [],
      "source": [
        "lista=[12,13,21,11,5]\n",
        "print(sorted(lista)) # [tampa sortiranu ali početna ostaje ista\n",
        "lista # štampa po;etnu\n"
      ]
    },
    {
      "cell_type": "code",
      "source": [
        "lista=[12,13,21,11,5]\n",
        "lista.sort() # trajno sortira\n",
        "lista"
      ],
      "metadata": {
        "id": "P5ZUO6KE6v7o"
      },
      "execution_count": null,
      "outputs": []
    },
    {
      "cell_type": "markdown",
      "source": [
        "**Filtriranje liste**"
      ],
      "metadata": {
        "id": "IdOKyWDGyy-a"
      }
    },
    {
      "cell_type": "markdown",
      "source": [
        "Da bi se iz liste izvukli elementi koji zadovaljavaju neki uslov koristimo nova_lista=[x for x in *stara_lista* if (*uslov za* x)]"
      ],
      "metadata": {
        "id": "YgelzL8fy27a"
      }
    },
    {
      "cell_type": "code",
      "source": [
        "L=[2,4,5,3,6,5]\n",
        "nova=[x for x in L if(x>4)]# napravi listu koja iz početne izvlači članove veće od 4\n",
        "nova # stampaj listu nova"
      ],
      "metadata": {
        "id": "wQh3mfRjzbhs"
      },
      "execution_count": null,
      "outputs": []
    },
    {
      "cell_type": "markdown",
      "source": [
        "**Prosek i medijana**"
      ],
      "metadata": {
        "id": "TJT5nHU7y-kI"
      }
    },
    {
      "cell_type": "markdown",
      "source": [
        "Za određivanje osnovnih statistika prosek i medijana koristićemo statističke funkcije dostupne u biblioteci statistics. Potrebno je pre korišćenja uvesti te funkcije naredbom from statistics import *odgovarajuća funkcija* ( median- medijana, mean- prosek)"
      ],
      "metadata": {
        "id": "ptu5piFg1sA1"
      }
    },
    {
      "cell_type": "code",
      "source": [
        "from statistics import median # iz biblioteke statistics uvezi funkciju median\n",
        "L=[2,3,4,3,5] # definiši listu\n",
        "median(L) # odredi medijanu liste L"
      ],
      "metadata": {
        "id": "Gc5D4qcYzy0m"
      },
      "execution_count": null,
      "outputs": []
    },
    {
      "cell_type": "code",
      "source": [
        "from statistics import mean # iz biblioteke statistics uvezi funkciju mean\n",
        "mean(L) # odredi srednju vrednost  prethodne liste L"
      ],
      "metadata": {
        "id": "qoNX1sno05Vd"
      },
      "execution_count": null,
      "outputs": []
    },
    {
      "cell_type": "markdown",
      "source": [
        "Napominjem da je moguće izračunati prosek i medijanu bez ovih funkcija ali zbog jednostavnosti uvek ćemo koristiti njih. Ipak navodim primer kako drugačije možemo izračunati srednju vrednost elemenata liste.Pogledaj sledeći primer. "
      ],
      "metadata": {
        "id": "KjOEIBXu2os5"
      }
    },
    {
      "cell_type": "code",
      "source": [
        "L=[2,3,4,3,5]\n",
        "prosek=sum(L)/len(L) # prosek je zbir svih podeljen sa ukupnim brojem članova\n",
        "prosek\n"
      ],
      "metadata": {
        "id": "2xAa4kFv3JwR"
      },
      "execution_count": null,
      "outputs": []
    },
    {
      "cell_type": "markdown",
      "source": [
        "Zadatak 3. Formiraj listu plata u kojoj ćeš uneti 10 plata a zatim izračunaj prosek. Potom iz formiraj novu listu ispodproseka gde koja će sadržati sve plate koje su ispod proseka. ( Napomena ako koristiš funkciju mean dodaj je nekoj promenjivoj npr. prosek=mean(lista))"
      ],
      "metadata": {
        "id": "VKFsBUeg37BY"
      }
    },
    {
      "cell_type": "code",
      "source": [
        ""
      ],
      "metadata": {
        "id": "IWoBGgOl5Ot6"
      },
      "execution_count": null,
      "outputs": []
    },
    {
      "cell_type": "markdown",
      "source": [
        "**Vizuelizacija liste**"
      ],
      "metadata": {
        "id": "K4VbJy173wkx"
      }
    },
    {
      "cell_type": "markdown",
      "source": [
        "Vizuelizaciju podataka ćemo uraditi uz pomoć biblioteke matplotlib.pyplot koja ima dosta različitih opcija za vizuelizaciju podataka. Radi manjeg pisanja biblioteci matplotlib.pyplot dodaćemo alijas **plt**.To činimo na sledeći način **matplotlib.pyplot as plt**"
      ],
      "metadata": {
        "id": "kpMeuGyV5V-1"
      }
    },
    {
      "cell_type": "markdown",
      "source": [
        "Pogledaj sledeći primer"
      ],
      "metadata": {
        "id": "XJVEh7eZ6cIA"
      }
    },
    {
      "cell_type": "code",
      "source": [
        "import matplotlib.pyplot as plt\n",
        "predmeti=[\"matematika\",\"izabrana_pogl_mat\",\"osiguranje\",\"srpski_jezik\",\"engleski\"]# napravili smo listu predmeti.Uoči da kada unosiš tekst u listu moraju navodnici\n",
        "ocene=[3,5,2,4,5] # napravili smo listu ocena\n",
        "plt.plot(predmeti,ocene)# predstavi linijskim dijagramom ocene\n",
        "plt.show()# da bi se prikaz video potrebno je pokrenuti funkciju show()"
      ],
      "metadata": {
        "id": "L6FIQZw16U2G"
      },
      "execution_count": null,
      "outputs": []
    },
    {
      "cell_type": "markdown",
      "source": [
        "Pokretanjem prethodnog programa dobili smo vizuelni prikaz ocena iz matematike u vidu linijskog dijagrama koji i nije baš odgovarajući onome šta hoćemo.Umesto linijskog bilo bi dobro predstaviti tačkastim dijagramom ocene za svaki predmet.\n"
      ],
      "metadata": {
        "id": "DMZVjvne8gtC"
      }
    },
    {
      "cell_type": "code",
      "source": [
        "plt.scatter(predmeti,ocene) # prikaz tačkastog dijagrama\n",
        "plt.show()"
      ],
      "metadata": {
        "id": "2ynvFPWy8f3q"
      },
      "execution_count": null,
      "outputs": []
    },
    {
      "cell_type": "markdown",
      "source": [
        "Sada možemo grafiku dodati nazive za ose kao i naziv samog dijagrama.Pogledaj primer."
      ],
      "metadata": {
        "id": "2qMKb7Y-93F9"
      }
    },
    {
      "cell_type": "code",
      "source": [
        "import matplotlib.pyplot as plt\n",
        "predmeti=[\"matemat.\",\"izabrana_pogl_mat\",\"osiguranje\",\"srpski_jezik\",\"engleski\"]\n",
        "ocene=[3,5,2,4,5]\n",
        "plt.scatter(predmeti,ocene)# ta;kasti dijagram se dobija funkcijom scatter\n",
        "plt.title(\"Ocene iz predmeta\")# sa plt.title dodajemo naziv\n",
        "plt.xlabel(\"predmeti\")# naziv x ose\n",
        "plt.ylabel(\"ocene\")# naziv y ose\n",
        "plt.show()"
      ],
      "metadata": {
        "colab": {
          "base_uri": "https://localhost:8080/",
          "height": 296
        },
        "id": "LgTx6SDb6yFc",
        "outputId": "edd26a2a-996b-403e-88e4-3e458e62b977"
      },
      "execution_count": 20,
      "outputs": [
        {
          "output_type": "display_data",
          "data": {
            "text/plain": [
              "<Figure size 432x288 with 1 Axes>"
            ],
            "image/png": "[encoded data removed]"
          },
          "metadata": {
            "needs_background": "light"
          }
        }
      ]
    },
    {
      "cell_type": "markdown",
      "source": [
        "Upotreba linijskog dijagrama će biti prirodnija na sledećem primeru koji predstavlja pregled akcija nekog preduzeća po godinama."
      ],
      "metadata": {
        "id": "tojrVgEj_n0K"
      }
    },
    {
      "cell_type": "code",
      "source": [
        "import matplotlib.pyplot as plt\n",
        "godina=[2015,2016,2017,2018,2019,2020] # ovo se još naziva vremenska serija podataka\n",
        "cena=[345.23,324.13,356.5,311.23,267.8,267.5]\n",
        "plt.plot(godina,cena)\n",
        "plt.show"
      ],
      "metadata": {
        "colab": {
          "base_uri": "https://localhost:8080/",
          "height": 285
        },
        "id": "lBwqeLN2_-u0",
        "outputId": "38cbf24b-2f1d-4a13-8f38-619062a2322b"
      },
      "execution_count": 21,
      "outputs": [
        {
          "output_type": "execute_result",
          "data": {
            "text/plain": [
              "<function matplotlib.pyplot.show>"
            ]
          },
          "metadata": {},
          "execution_count": 21
        },
        {
          "output_type": "display_data",
          "data": {
            "text/plain": [
              "<Figure size 432x288 with 1 Axes>"
            ],
            "image/png": "[encoded data removed]"
          },
          "metadata": {
            "needs_background": "light"
          }
        }
      ]
    },
    {
      "cell_type": "markdown",
      "source": [
        "Zadatak. U prethodnom dijagramu dodaj naslov i oznake na osama"
      ],
      "metadata": {
        "id": "z0gjiVPGDmdP"
      }
    },
    {
      "cell_type": "code",
      "source": [
        ""
      ],
      "metadata": {
        "id": "q0uISdsyD4Mc"
      },
      "execution_count": null,
      "outputs": []
    },
    {
      "cell_type": "markdown",
      "source": [
        "**PIE plot-pita plot**"
      ],
      "metadata": {
        "id": "r8WW8vh0D5sD"
      }
    },
    {
      "cell_type": "markdown",
      "source": [
        "Pita diagrami se nazivaju sektorski dijagrami.Podaci su predstavljeni u krugu.Ceo krug obuhvata sve podatke dok delovi kruga se određuju shodno procentu zastupljenosti tih podataka.Sledeći primer ilustruje grupu od 100 ispitanika od čega imamo 55 žena i 45 muškaraca."
      ],
      "metadata": {
        "id": "0DjRHbskJbBV"
      }
    },
    {
      "cell_type": "code",
      "source": [
        "import matplotlib.pyplot as plt\n",
        "frekfenca=[55,45]# broj žena i muškaraca\n",
        "pol=[\"Ženski\",\"Muški\"]# pol\n",
        "plt.pie(frekfenca,labels=pol)# crtamo piticu čija je prva komponenta frekfenca podataka a druga ono što će pisati na delovima (labels)\n",
        "plt.show()\n"
      ],
      "metadata": {
        "colab": {
          "base_uri": "https://localhost:8080/",
          "height": 248
        },
        "id": "DV0mfsqyJaOh",
        "outputId": "127d5417-674d-4fc9-9260-8782c80bc7a6"
      },
      "execution_count": 15,
      "outputs": [
        {
          "output_type": "display_data",
          "data": {
            "text/plain": [
              "<Figure size 432x288 with 1 Axes>"
            ],
            "image/png": "[encoded data removed]"
          },
          "metadata": {}
        }
      ]
    },
    {
      "cell_type": "markdown",
      "source": [
        "Sada možemo dodati naslov dijagramu  "
      ],
      "metadata": {
        "id": "w34L2MhgLptU"
      }
    },
    {
      "cell_type": "code",
      "source": [
        "import matplotlib.pyplot as plt\n",
        "frekfenca=[55,45]\n",
        "pol=[\"Ženski\",\"Muški\"]\n",
        "plt.pie(frekfenca,labels=pol)\n",
        "plt.title(\"Struktura grupe po polu\")\n",
        "plt.show()\n"
      ],
      "metadata": {
        "colab": {
          "base_uri": "https://localhost:8080/",
          "height": 264
        },
        "id": "Hm5xN9heLyAs",
        "outputId": "c9b9b6cf-a8b9-4229-c872-49b937cf7b5a"
      },
      "execution_count": 16,
      "outputs": [
        {
          "output_type": "display_data",
          "data": {
            "text/plain": [
              "<Figure size 432x288 with 1 Axes>"
            ],
            "image/png": "[encoded data removed]"
          },
          "metadata": {}
        }
      ]
    },
    {
      "cell_type": "markdown",
      "source": [
        "Zbog preglednosti ponekad je potrebno izdvojiti deo kruga.Pogledajmo sledeći primer koji predstavlja skup od 100 učenika od čega 60 uči engleski,37 francuski a 3 ruski jezik"
      ],
      "metadata": {
        "id": "_wKcFQzbMUxa"
      }
    },
    {
      "cell_type": "code",
      "source": [
        "import matplotlib.pyplot as plt\n",
        "frekfenca=[60,37,3]\n",
        "jezik=[\"Engleski\",\"Francuski\",\"Ruski\"]\n",
        "plt.pie(frekfenca,labels=jezik)\n",
        "plt.title(\"Struktura učenika po jezicima koje uče\")\n",
        "plt.show()"
      ],
      "metadata": {
        "colab": {
          "base_uri": "https://localhost:8080/",
          "height": 264
        },
        "id": "YeZtW4jgMyfB",
        "outputId": "6c7c6203-c824-4474-d906-a2eb370b0885"
      },
      "execution_count": 17,
      "outputs": [
        {
          "output_type": "display_data",
          "data": {
            "text/plain": [
              "<Figure size 432x288 with 1 Axes>"
            ],
            "image/png": "[encoded data removed]"
          },
          "metadata": {}
        }
      ]
    },
    {
      "cell_type": "markdown",
      "source": [
        "Da bi bilo uočljivije stavljamo opciju izdvajanja explode=[procenat izdvojenosti po podacima]. U sledećem primeru engleski i francuski nećemo isecati iz kruga dok ćemo ruski jezik izdvojiti 50%=0.5."
      ],
      "metadata": {
        "id": "R2-eZcK5NTPX"
      }
    },
    {
      "cell_type": "code",
      "source": [
        "import matplotlib.pyplot as plt\n",
        "frekfenca=[60,37,3]\n",
        "jezik=[\"Engleski 60%\",\"Francuski 37%\",\"Ruski 3%\"]\n",
        "plt.pie(frekfenca,labels=jezik,explode=[0.0,0.0,0.5]) #  prve dve 0.0 znači ostaju u krugu, dok treće 0,5 izdvaja ruski \n",
        "plt.title(\"Struktura učenika po jezicima koje uče\")\n",
        "plt.show()"
      ],
      "metadata": {
        "colab": {
          "base_uri": "https://localhost:8080/",
          "height": 264
        },
        "id": "TP0GGFWpOCFC",
        "outputId": "4e20e06f-6c3f-4369-9e25-4e0f79e15381"
      },
      "execution_count": 22,
      "outputs": [
        {
          "output_type": "display_data",
          "data": {
            "text/plain": [
              "<Figure size 432x288 with 1 Axes>"
            ],
            "image/png": "[encoded data removed]"
          },
          "metadata": {}
        }
      ]
    },
    {
      "cell_type": "markdown",
      "source": [
        "**Stubičasti dijagrami**"
      ],
      "metadata": {
        "id": "73Xfk17lO4Yv"
      }
    },
    {
      "cell_type": "markdown",
      "source": [
        "Stubičasti dijagrami se koriste vrlo često u vizuelizaciji podataka. Sada ćemo predstaviti podatke iz uvodnog primera (ocene učenika po predmetima) stubičastim dijagramom."
      ],
      "metadata": {
        "id": "r7bE2lqFPKUn"
      }
    },
    {
      "cell_type": "code",
      "source": [
        "import matplotlib.pyplot as plt\n",
        "predmeti=[\"mat\",\"iza_pogl_mat\",\"osigur\",\"srpski_jez\",\"engleski\"]\n",
        "ocene=[3,5,2,4,5] \n",
        "plt.bar(predmeti,ocene)\n",
        "plt.show()"
      ],
      "metadata": {
        "colab": {
          "base_uri": "https://localhost:8080/",
          "height": 266
        },
        "id": "Kp7-Tx8RP__z",
        "outputId": "6491ce6c-7d7f-40f2-914e-f1f868d52e3f"
      },
      "execution_count": 25,
      "outputs": [
        {
          "output_type": "display_data",
          "data": {
            "text/plain": [
              "<Figure size 432x288 with 1 Axes>"
            ],
            "image/png": "[encoded data removed]"
          },
          "metadata": {
            "needs_background": "light"
          }
        }
      ]
    },
    {
      "cell_type": "markdown",
      "source": [
        "Na isti način kao i ranije dodaćemo ose i naslov našem dijagramu"
      ],
      "metadata": {
        "id": "ITRZos6AQr89"
      }
    },
    {
      "cell_type": "code",
      "source": [
        "import matplotlib.pyplot as plt\n",
        "predmeti=[\"mat\",\"iza_pogl_mat\",\"osigur\",\"srpski_jez\",\"engleski\"]\n",
        "ocene=[3,5,2,4,5] \n",
        "plt.bar(predmeti,ocene)\n",
        "plt.title(\"Ocene iz predmeta\")\n",
        "plt.xlabel(\"Predmeti\")\n",
        "plt.ylabel(\"Ocena\")\n",
        "plt.show()"
      ],
      "metadata": {
        "colab": {
          "base_uri": "https://localhost:8080/",
          "height": 296
        },
        "id": "tmRr4tq1Q1d2",
        "outputId": "f9522d8a-5359-4b02-dcf7-e9c791fb839a"
      },
      "execution_count": 26,
      "outputs": [
        {
          "output_type": "display_data",
          "data": {
            "text/plain": [
              "<Figure size 432x288 with 1 Axes>"
            ],
            "image/png": "[encoded data removed]"
          },
          "metadata": {
            "needs_background": "light"
          }
        }
      ]
    },
    {
      "cell_type": "markdown",
      "source": [
        "**Kombinovani dijagrami**"
      ],
      "metadata": {
        "id": "wXPU-O3TRRNp"
      }
    },
    {
      "cell_type": "markdown",
      "source": [
        "Na jednom dijagramu mže biti prikazan veći broj podataka. POgledajmo na sledećem tačkastom dijagramu opseg dozvojenih temperatura kod dece u zavisnosti od uzrasta"
      ],
      "metadata": {
        "id": "Edni9zbDUWit"
      }
    },
    {
      "cell_type": "code",
      "source": [
        "import matplotlib.pyplot as plt\n",
        "starost=[\"0-2\",\"3-10\",\"11-65\",\"65+\"]\n",
        "donja=[34.7,35.9,33.2,35.6] # lista donjih temperatura dece po uzrastu\n",
        "gornja=[37.3,36.7,36.9,36.2] # lista gornjih temperatura dece po uzrastu\n",
        "plt.scatter(starost,donja, color=\"green\") # predstavimo donje temperature i to zelenm bojom\n",
        "plt.scatter(starost,gornja,color=\"red\")# pa u okviru istog i gornje i to crvenom bojom\n",
        "plt.title(\"Temperature dece\")\n",
        "plt.xlabel(\"Starost\")\n",
        "plt.ylabel(\"Temperatura\")\n",
        "plt.show()"
      ],
      "metadata": {
        "colab": {
          "base_uri": "https://localhost:8080/",
          "height": 295
        },
        "id": "QNGsZ-dkRWfM",
        "outputId": "e549240c-451f-4c5f-8cc0-9862b3f4ac26"
      },
      "execution_count": 31,
      "outputs": [
        {
          "output_type": "display_data",
          "data": {
            "text/plain": [
              "<Figure size 432x288 with 1 Axes>"
            ],
            "image/png": "[encoded data removed]"
          },
          "metadata": {
            "needs_background": "light"
          }
        }
      ]
    },
    {
      "cell_type": "markdown",
      "source": [
        "Za dodavanje legende koristimo opciju legend"
      ],
      "metadata": {
        "id": "tR_HwpaNWskK"
      }
    },
    {
      "cell_type": "code",
      "source": [
        "import matplotlib.pyplot as plt\n",
        "starost=[\"0-2\",\"3-10\",\"11-65\",\"65+\"]\n",
        "donja=[34.7,35.9,33.2,35.6] \n",
        "gornja=[37.3,36.7,36.9,36.2] \n",
        "plt.scatter(starost,donja, color=\"green\",label=\"donja\") # sa label= označavamo šta će da pise na agendi\n",
        "plt.scatter(starost,gornja,color=\"red\", label=\"gornja\")\n",
        "plt.title(\"Temperature dece\")\n",
        "plt.xlabel(\"Starost\")\n",
        "plt.ylabel(\"Temperatura\")\n",
        "plt.legend()# opcija za dodavanje legende\n",
        "plt.show()"
      ],
      "metadata": {
        "colab": {
          "base_uri": "https://localhost:8080/",
          "height": 295
        },
        "id": "pUNH4zOFW7WK",
        "outputId": "ad1f4480-a69f-4f34-da00-bae4992b29cd"
      },
      "execution_count": 34,
      "outputs": [
        {
          "output_type": "display_data",
          "data": {
            "text/plain": [
              "<Figure size 432x288 with 1 Axes>"
            ],
            "image/png": "[encoded data removed]"
          },
          "metadata": {
            "needs_background": "light"
          }
        }
      ]
    },
    {
      "cell_type": "markdown",
      "source": [
        "Zadatak . Formiraj listu svojih ocena iz svih predmeta i predstavi ili tačkasti ili stubičasto"
      ],
      "metadata": {
        "id": "0fV0HdGGXy6o"
      }
    }
  ]
}