{
  "nbformat": 4,
  "nbformat_minor": 0,
  "metadata": {
    "colab": {
      "name": "Obrada podataka iz baza podataka-napredni nivo",
      "provenance": [],
      "toc_visible": true,
      "mount_file_id": "1bgB97lphNDCo6cVJ6WwvVi1JDGRcLrs0",
      "authorship_tag": "ABX9TyOoZiuD4waVzE4LJCq0fYv7",
      "include_colab_link": true
    },
    "kernelspec": {
      "name": "python3",
      "display_name": "Python 3"
    },
    "language_info": {
      "name": "python"
    }
  },
  "cells": [
    {
      "cell_type": "markdown",
      "metadata": {
        "id": "view-in-github",
        "colab_type": "text"
      },
      "source": [
        "<a href=\"https://colab.research.google.com/github/BrankoGavrilovic/pajton-za-ucenike-es/blob/main/Obrada_podataka_iz_baza_podataka_napredni_nivo.ipynb\" target=\"_parent\"><img src=\"https://colab.research.google.com/assets/colab-badge.svg\" alt=\"Open In Colab\"/></a>"
      ]
    },
    {
      "cell_type": "markdown",
      "source": [
        "#Analitika baze podataka\n",
        "\n",
        "\n",
        "\n",
        "\n",
        "\n",
        "\n",
        "\n",
        "\n",
        "\n",
        "\n",
        "\n",
        "\n",
        "\n",
        "\n",
        "\n"
      ],
      "metadata": {
        "id": "nQi5si5md-2P"
      }
    },
    {
      "cell_type": "markdown",
      "source": [
        "##Objašnjenje sadržaja baze podataka\n",
        "\n",
        "Kao jedna od važnih primena  analitike podataka predstavlja analiza i obrada podataka zapisanih u bazu podataka. Baza podataka je niz podataka rasporedjenih u različite tabele koje su povezane na odgovarajući način.Postoji dosta sistema za upravljanje bazom podataka (SUBP) koji omogučavaju smeštanje i čuvanje podataka.Neke od njih su komercijalne dok su neke potpuno besplatne za eksplataciju. U ovoj lekciji smo se predelili na SQLIte bazu podataka. \n",
        "\n",
        "Kreirana je baza podataka pod nazivom baza.db koja simulira poslove bankarskog plaćanja. Baza se sastoji od tri tabele. Prva tabela je pod nazivom klijent čiji su atributi:\n",
        "\n",
        "\n",
        "*   maticni_broj (primarni ključ)\n",
        "*   Ime\n",
        "*   Prezime\n",
        "*   Adresa\n",
        "*   godina_rodjenje\n",
        "*   Zaposlen_u\n",
        "*   Telefon\n",
        "\n",
        "Druga tabela nosi naziv racun i predstavlja podatke o brojevima i vrsti računa klijenata. Tabela racun ima sledeće atribute:\n",
        "\n",
        "*   id_racuna (primarni ključ)\n",
        "*   Vrsta_racuna\n",
        "*   maticni_klijenta (strani ključ)\n",
        "\n",
        "Treće tabela nosi naziv transakcija i  sadrži podatke o transakcijama po računima. Tabela transakcija ima sledeće atribute:\n",
        "\n",
        "*   id_transakcije (primarni ključ)\n",
        "*   Iznos\n",
        "*   datum\n",
        "*   Vrsta_isplate\n",
        "*   broj_racuna (spoljašnji ključ)\n"
      ],
      "metadata": {
        "id": "bDlpJGbgjehJ"
      }
    },
    {
      "cell_type": "markdown",
      "source": [
        "# Pristup bazi podataka\n",
        "Da bi radili sa bazom podataka potrebno je omogućiti okruženju Google Colab pristup Google Disku gde ćemo smestiti bazu podataka. Pre toga je potrebno preuzeti bazu podataka baza.db a zatim je uploadovati na disk. Kada to učinimo onda kucanjem sledećih naredbi omogućavamo pristup podacima sa DIska:\n",
        "\n",
        "*from google.colab import drive*\n",
        "\n",
        "*drive.mount('/content/drive')* \n",
        "\n",
        "Nakon povezivanja sa Diskom potrebno je povezati se sa bazom. Da bi to uradili neophodna nam je putanja(path) do baze. Nju dobijamo tako što preko bočnog menija u opciji FILE pronadjemo na disku bazu a zatim klikom na tri tačke sa strane dobijamo opciju da kopiramo putanju. Nakon toga se možemo povezati na bazu sledećim kodom:\n",
        "\n",
        "import sqlite3\n",
        "\n",
        "db=sqlite3.connect(\"putanja do baze\")\n",
        "\n",
        "Pokretanjem sledeće dve ćelije obavljamo dati postupak."
      ],
      "metadata": {
        "id": "tJcOr21ejuh8"
      }
    },
    {
      "cell_type": "code",
      "source": [
        "from google.colab import drive\n",
        "drive.mount('/content/drive')"
      ],
      "metadata": {
        "colab": {
          "base_uri": "https://localhost:8080/"
        },
        "id": "5EiByIqSkh6r",
        "outputId": "a0f949e3-c802-4c44-e31d-3b3286402835"
      },
      "execution_count": 9,
      "outputs": [
        {
          "output_type": "stream",
          "name": "stdout",
          "text": [
            "Drive already mounted at /content/drive; to attempt to forcibly remount, call drive.mount(\"/content/drive\", force_remount=True).\n"
          ]
        }
      ]
    },
    {
      "cell_type": "code",
      "source": [
        "import sqlite3\n",
        "db=sqlite3.connect(\"/content/baza.db\")\n",
        "\n"
      ],
      "metadata": {
        "id": "xOpaoJD-dHch"
      },
      "execution_count": 12,
      "outputs": []
    },
    {
      "cell_type": "markdown",
      "source": [
        "#  Obrada podataka iz baze"
      ],
      "metadata": {
        "id": "y2yrODWBnT66"
      }
    },
    {
      "cell_type": "markdown",
      "source": [
        "##Manipulacija podacima u bazi\n",
        "\n",
        "Nakon što smo se uspešno povezali na bazu podataka opcijom\n",
        "\n",
        " db.execute (\"upit\")\n",
        "\n",
        "vršimo obradu podataka u našoj bazi.\n",
        "\n",
        "### Upit SELECT\n",
        "Da bi pročitali podatke iz baze koristimo SELECT upit koji ima sledeću strukturu.\n",
        "\n",
        "SELECT *Nazivi kolona odvojeni zarezom* FROM *naziv_tabele*\n",
        "\n",
        "Ukoliko je potrebno ispisati sve podatke jedne tabele onda umesto naziva svih kolona jedne tabele možemo staviti *. Tada je oblik naredbe sledeći:\n",
        "\n",
        "SELECT * FROM *naziv_tabele*\n",
        "\n",
        "Sledeći primer ispisuje sve podatke iz tabele klijent.\n"
      ],
      "metadata": {
        "id": "Xa8ejb5xsCwR"
      }
    },
    {
      "cell_type": "code",
      "source": [
        "import sqlite3\n",
        "db=sqlite3.connect(\"/content/baza.db\")\n",
        "r_row=db.execute(\"select* from klijent\")\n",
        "for row in r_row:\n",
        "  print(row)"
      ],
      "metadata": {
        "colab": {
          "base_uri": "https://localhost:8080/"
        },
        "id": "D0c0SMXdlQ8e",
        "outputId": "0e819ef8-f0da-4519-ae9e-3be043802ab5"
      },
      "execution_count": 13,
      "outputs": [
        {
          "output_type": "stream",
          "name": "stdout",
          "text": [
            "('0701982790052', 'Danka', 'Puzović', 'Ratarska 12', 1982, 'Deponija Duboko', '0641777388')\n",
            "('1203945790023', 'Ana', 'Anić', 'Kosovska 18', 1945, 'Penzioner', '0641111244')\n",
            "('1405954790023', 'Ranko', 'Petrović', 'Majdanska 12', 1954, 'Penzioner', '0641122334')\n",
            "('1607982790048', 'Branko', 'Gavrilović', 'Ljubljanska 23', 1982, 'Ekonomska školaUžice', '0641837678')\n",
            "('0305954790025', 'Ivan', 'Ilić', 'Kurlagina 12', 1954, 'Penzioner', '0658889994')\n",
            "('1504972790065', 'Nikola', 'Nikolić', 'Majdanska 12', 1972, 'Ekonomska škola Užice', '061222544')\n",
            "('3011950790045', 'Jovana', 'Ilić', 'Nemanjina 24', 1950, 'Penzioner', '0602587964')\n",
            "('2912945790065', 'Milan', 'Milanović', 'Bela zemlja 23', 1945, 'Penzioner', '031578987')\n",
            "('0509977790054', 'Bojana', 'Bojović', 'Ada bb', 1977, 'Nova pekara', '0645879452')\n",
            "('3005980790056', 'Slavica', 'Paunović', 'Jug Bogdanova 34', 1980, 'Ekonomska škola Užice', '031558847')\n",
            "('1605977790025', 'Valentina', 'Virijević', 'Ratarska 12', 1977, 'Ekonomska škola Užice', '0642548568')\n",
            "('0304987790058', 'Bojana', 'Banović', 'Dimitrije Tucović 12', 1987, 'Mum iand friends', '061558877')\n",
            "('1508983790028', 'Matija', 'Banović', 'Dimitrije Tucović 12', 1983, 'Zlatiborski upravni okrug', '031548789')\n",
            "('0406968790025', 'Milan', 'Stamatović', 'čajetinska 13', 1968, 'Opština Čajetina', '0614587954')\n",
            "('0808974790025', 'Ivana', 'Mitrić', 'Ada bb', 1974, 'Valjaonica Bakra Sevojno', '031558872')\n",
            "('0205985790025', 'Nemanja', 'Nikolić', 'Jablanička 34', 1985, 'Medicinska škola Užice', '061222555')\n",
            "('0303974790025', 'Jovana', 'Jeremić', 'Nišavska 12', 1974, 'Užička gimnazija', '0658887779')\n",
            "('2602965790025', 'Mina', 'Minić', 'Radanska 23', 1965, 'Užička gimnazija', '031544522')\n",
            "('3101977790028', 'Nina', 'Nikolić', 'Novosadska 12', 1977, 'Medicinska škola Užice', '0651144778')\n",
            "('2501975790026', 'Ivona', 'Mirković', 'Ada bb', 1975, 'Prasak doo', '0652165874')\n"
          ]
        }
      ]
    },
    {
      "cell_type": "markdown",
      "source": [
        "**Zadatak 1.** Iz tabele racun izdvoj kolone id_racuna i Vrsta_racuna."
      ],
      "metadata": {
        "id": "f9NYlyHywf2p"
      }
    },
    {
      "cell_type": "code",
      "source": [
        "import sqlite3\n",
        "db=sqlite3.connect(\"/content/baza.db\")\n",
        "r_row=db.execute(\"##\") # dopuni kod\n",
        "for row in r_row:\n",
        "  print(row)"
      ],
      "metadata": {
        "id": "0OcTne6wxGNc"
      },
      "execution_count": null,
      "outputs": []
    },
    {
      "cell_type": "markdown",
      "source": [
        "Ponekad je potrebno izdvojiti samo one podatke koje zadovoljavaju neki uslov. Opcija\n",
        "\n",
        " WHERE uslov\n",
        "\n",
        " omogućava izdvajanje onih podataka koji zadovoljavaju traženi uslov. \n",
        " U sledećem primeru izdvojićemo one klijente koji su rodjeni posle 1970. godine.\n",
        "\n"
      ],
      "metadata": {
        "id": "MdIozoPX0jes"
      }
    },
    {
      "cell_type": "code",
      "source": [
        "import sqlite3\n",
        "db=sqlite3.connect(\"/content/baza.db\")\n",
        "r_row=db.execute(\"select* from klijent where godina_rodjenja>1970\")\n",
        "for row in r_row:\n",
        "  print(row)"
      ],
      "metadata": {
        "colab": {
          "base_uri": "https://localhost:8080/"
        },
        "id": "9m0zgnCc1XKw",
        "outputId": "e24ebc2c-cbff-4d8d-e05a-35467d835578"
      },
      "execution_count": 16,
      "outputs": [
        {
          "output_type": "stream",
          "name": "stdout",
          "text": [
            "('0701982790052', 'Danka', 'Puzović', 'Ratarska 12', 1982, 'Deponija Duboko', '0641777388')\n",
            "('1607982790048', 'Branko', 'Gavrilović', 'Ljubljanska 23', 1982, 'Ekonomska školaUžice', '0641837678')\n",
            "('1504972790065', 'Nikola', 'Nikolić', 'Majdanska 12', 1972, 'Ekonomska škola Užice', '061222544')\n",
            "('0509977790054', 'Bojana', 'Bojović', 'Ada bb', 1977, 'Nova pekara', '0645879452')\n",
            "('3005980790056', 'Slavica', 'Paunović', 'Jug Bogdanova 34', 1980, 'Ekonomska škola Užice', '031558847')\n",
            "('1605977790025', 'Valentina', 'Virijević', 'Ratarska 12', 1977, 'Ekonomska škola Užice', '0642548568')\n",
            "('0304987790058', 'Bojana', 'Banović', 'Dimitrije Tucović 12', 1987, 'Mum iand friends', '061558877')\n",
            "('1508983790028', 'Matija', 'Banović', 'Dimitrije Tucović 12', 1983, 'Zlatiborski upravni okrug', '031548789')\n",
            "('0808974790025', 'Ivana', 'Mitrić', 'Ada bb', 1974, 'Valjaonica Bakra Sevojno', '031558872')\n",
            "('0205985790025', 'Nemanja', 'Nikolić', 'Jablanička 34', 1985, 'Medicinska škola Užice', '061222555')\n",
            "('0303974790025', 'Jovana', 'Jeremić', 'Nišavska 12', 1974, 'Užička gimnazija', '0658887779')\n",
            "('3101977790028', 'Nina', 'Nikolić', 'Novosadska 12', 1977, 'Medicinska škola Užice', '0651144778')\n",
            "('2501975790026', 'Ivona', 'Mirković', 'Ada bb', 1975, 'Prasak doo', '0652165874')\n"
          ]
        }
      ]
    },
    {
      "cell_type": "markdown",
      "source": [
        "**Zadatak2.** Izdvoj sve klijente koji su u penziji. Napomena: U koloni Zaposlen_u kod penzionera piše Penzioner."
      ],
      "metadata": {
        "id": "QGEmdNlS2g_D"
      }
    },
    {
      "cell_type": "code",
      "source": [
        "import sqlite3\n",
        "db=sqlite3.connect(\"/content/baza.db\")\n",
        "r_row=db.execute(\"select* from klijent where ######\") # dopuni kod. Vodi računa kod uslova treba navesti Penzioner pod jednotrukim navodnicima jer je u pitanju tekstualni podatak\n",
        "for row in r_row:\n",
        "  print(row)"
      ],
      "metadata": {
        "colab": {
          "base_uri": "https://localhost:8080/"
        },
        "id": "xfF-Ovy_2cQf",
        "outputId": "db899756-a769-48e3-9058-0df0611ed7ed"
      },
      "execution_count": 19,
      "outputs": [
        {
          "output_type": "stream",
          "name": "stdout",
          "text": [
            "('1203945790023', 'Ana', 'Anić', 'Kosovska 18', 1945, 'Penzioner', '0641111244')\n",
            "('1405954790023', 'Ranko', 'Petrović', 'Majdanska 12', 1954, 'Penzioner', '0641122334')\n",
            "('0305954790025', 'Ivan', 'Ilić', 'Kurlagina 12', 1954, 'Penzioner', '0658889994')\n",
            "('3011950790045', 'Jovana', 'Ilić', 'Nemanjina 24', 1950, 'Penzioner', '0602587964')\n",
            "('2912945790065', 'Milan', 'Milanović', 'Bela zemlja 23', 1945, 'Penzioner', '031578987')\n"
          ]
        }
      ]
    },
    {
      "cell_type": "markdown",
      "source": [
        "##Upiti nad više tabela\n",
        "\n",
        "Kod relacionih baza podataka podaci su smešteni u više različitih tabela. Povezivanjem tabela moguće je pročitati različite podatke smeštene u različite tabele.To činimo sledeećim naredbama.\n",
        "\n",
        "select naziv kolona (odvojen zarezom)\n",
        "\n",
        "from naziv tabela ( odvojen zarezom)\n",
        "\n",
        "where uslov\n",
        "\n",
        " U našem primeru u jednoj tabeli se nalaze svi podaci o klijentima banke a u drugoj brojevi računa. Dve tabele su povezane spoljnim ključem maticni_broj. Naime na osnovu matičnog broja računa možemo dobiti podatke o vlasniku. U sledećem primeru izdvojićemo ime i prezme vlasnika računa iz tabele klijent i broj računa iz tabele račun. Uslov da bi klijent bio vlasnik racuna je da maticni broj klijenta u tabeli racun odgovara maticnom broju iz tabele klijent."
      ],
      "metadata": {
        "id": "wbCoiGgU4Nz2"
      }
    },
    {
      "cell_type": "code",
      "source": [
        "import sqlite3\n",
        "db=sqlite3.connect(\"/content/baza.db\")\n",
        "r_row=db.execute(\"select ime,prezime,id_racuna from klijent,racun where maticni_broj=maticni_klijenta\")\n",
        "for row in r_row:\n",
        "  print(row)"
      ],
      "metadata": {
        "colab": {
          "base_uri": "https://localhost:8080/"
        },
        "id": "8fJrkyk96-uQ",
        "outputId": "1b1a2db0-242c-4799-c176-f9b5e5275f3d"
      },
      "execution_count": 23,
      "outputs": [
        {
          "output_type": "stream",
          "name": "stdout",
          "text": [
            "('Branko', 'Gavrilović', 111)\n",
            "('Ranko', 'Petrović', 112)\n",
            "('Ana', 'Anić', 113)\n",
            "('Branko', 'Gavrilović', 114)\n",
            "('Ranko', 'Petrović', 115)\n",
            "('Ana', 'Anić', 116)\n",
            "('Danka', 'Puzović', 117)\n",
            "('Ivan', 'Ilić', 118)\n",
            "('Nikola', 'Nikolić', 119)\n",
            "('Jovana', 'Ilić', 120)\n",
            "('Bojana', 'Bojović', 121)\n",
            "('Slavica', 'Paunović', 122)\n",
            "('Valentina', 'Virijević', 123)\n",
            "('Bojana', 'Banović', 124)\n",
            "('Matija', 'Banović', 125)\n",
            "('Milan', 'Stamatović', 126)\n",
            "('Ivana', 'Mitrić', 127)\n",
            "('Nemanja', 'Nikolić', 128)\n",
            "('Jovana', 'Jeremić', 129)\n",
            "('Mina', 'Minić', 130)\n",
            "('Nina', 'Nikolić', 131)\n",
            "('Ivona', 'Mirković', 132)\n",
            "('Milan', 'Milanović', 133)\n",
            "('Milan', 'Stamatović', 134)\n"
          ]
        }
      ]
    },
    {
      "cell_type": "markdown",
      "source": [
        "**Zadatak 3.** \n",
        "Dopuni prethodni primer tako što ćemo dodati i vrstu računa korisnika u izlazni podatak."
      ],
      "metadata": {
        "id": "j6zVg0Xw_bfh"
      }
    },
    {
      "cell_type": "code",
      "source": [
        ""
      ],
      "metadata": {
        "id": "37dGRuqv__AW"
      },
      "execution_count": null,
      "outputs": []
    },
    {
      "cell_type": "markdown",
      "source": [
        "# Parametarski upiti- napredno"
      ],
      "metadata": {
        "id": "2Mjcl6NFDp_F"
      }
    },
    {
      "cell_type": "markdown",
      "source": [
        "Ponekad je potrebno da upravljanje uslovima upita učinimo interaktivnim i da korisnik sam može da zadaje uslove. Recimo želimo da budemo u mogućnsti da vidimo sve klijente koji su rođeni u opsegu godina  koje korisnik zadaje na standardnom ulazu. Za tako nešto nam je ptreban parametarski upit.\n",
        "Pogledajmo primer."
      ],
      "metadata": {
        "id": "Y-GhFeTEDv84"
      }
    },
    {
      "cell_type": "code",
      "source": [
        "import sqlite3\n",
        "db=sqlite3.connect(\"/content/baza.db\")\n",
        "n=int(input(\"Unesi  donju granicu za godinu rođenja klijenta\"))\n",
        "m=int(input(\"Unesi  gornju granicu za godinu rođenja klijenta\"))\n",
        "godina=(n,m)\n",
        "print(\"Klijenti rođeni između\",n, \" i \",m)\n",
        "r_row=db.execute(\"select * from klijent where godina_rodjenja>? and godina_rodjenja<? \",godina)\n",
        "for row in r_row:\n",
        "  print(row)"
      ],
      "metadata": {
        "colab": {
          "base_uri": "https://localhost:8080/"
        },
        "id": "kEOSdRapFClh",
        "outputId": "479d9151-3a7f-4897-9d62-04b15569c09a"
      },
      "execution_count": 35,
      "outputs": [
        {
          "output_type": "stream",
          "name": "stdout",
          "text": [
            "Unesi  donju granicu za godinu rođenja klijenta1980\n",
            "Unesi  gornju granicu za godinu rođenja klijenta1999\n",
            "Klijenti rođeni između 1980  i  1999\n",
            "('0701982790052', 'Danka', 'Puzović', 'Ratarska 12', 1982, 'Deponija Duboko', '0641777388')\n",
            "('1607982790048', 'Branko', 'Gavrilović', 'Ljubljanska 23', 1982, 'Ekonomska školaUžice', '0641837678')\n",
            "('0304987790058', 'Bojana', 'Banović', 'Dimitrije Tucović 12', 1987, 'Mum iand friends', '061558877')\n",
            "('1508983790028', 'Matija', 'Banović', 'Dimitrije Tucović 12', 1983, 'Zlatiborski upravni okrug', '031548789')\n",
            "('0205985790025', 'Nemanja', 'Nikolić', 'Jablanička 34', 1985, 'Medicinska škola Užice', '061222555')\n"
          ]
        }
      ]
    },
    {
      "cell_type": "markdown",
      "source": [
        "# Smeštanje podataka iz baze u tabele"
      ],
      "metadata": {
        "id": "akVixFGH_EsY"
      }
    },
    {
      "cell_type": "markdown",
      "source": [
        "Pošto smo naučili da čitamo podatke iz tabela te podatke možemo smestiti u tabele i dalje obrađivali na način koji smo već naučili. Da bi smo to uradili neophodno je prvo uvesti bibilioteku Pandas a onda  metodom Dataframe napraviti tabelu. U sledećem primeru izdvojićemo ime, prezime i matični broj klijenata kojećemo smestiti u tabelu koju ćemo nazvati licni_podaci "
      ],
      "metadata": {
        "id": "mtE1G31r_ROu"
      }
    },
    {
      "cell_type": "code",
      "source": [
        "import sqlite3\n",
        "import pandas as pd\n",
        "\n",
        "db=sqlite3.connect(\"/content/baza.db\")\n",
        "r_row=db.execute(\"select ime,prezime,maticni_broj from klijent\")\n",
        "licni_podaci=pd.DataFrame(r_row)\n",
        "licni_podaci"
      ],
      "metadata": {
        "colab": {
          "base_uri": "https://localhost:8080/",
          "height": 677
        },
        "id": "4j0y925QBGln",
        "outputId": "f6e7edcf-9ae4-49d5-a186-01690879119d"
      },
      "execution_count": 24,
      "outputs": [
        {
          "output_type": "execute_result",
          "data": {
            "text/plain": [
              "            0           1              2\n",
              "0       Danka     Puzović  0701982790052\n",
              "1         Ana        Anić  1203945790023\n",
              "2       Ranko    Petrović  1405954790023\n",
              "3      Branko  Gavrilović  1607982790048\n",
              "4        Ivan        Ilić  0305954790025\n",
              "5      Nikola     Nikolić  1504972790065\n",
              "6      Jovana        Ilić  3011950790045\n",
              "7       Milan   Milanović  2912945790065\n",
              "8      Bojana     Bojović  0509977790054\n",
              "9     Slavica    Paunović  3005980790056\n",
              "10  Valentina   Virijević  1605977790025\n",
              "11     Bojana     Banović  0304987790058\n",
              "12     Matija     Banović  1508983790028\n",
              "13      Milan  Stamatović  0406968790025\n",
              "14      Ivana      Mitrić  0808974790025\n",
              "15    Nemanja     Nikolić  0205985790025\n",
              "16     Jovana     Jeremić  0303974790025\n",
              "17       Mina       Minić  2602965790025\n",
              "18       Nina     Nikolić  3101977790028\n",
              "19      Ivona    Mirković  2501975790026"
            ],
            "text/html": [
              "\n",
              "  <div id=\"df-49b7f3e2-e6ab-45ce-94b8-01ffd5912533\">\n",
              "    <div class=\"colab-df-container\">\n",
              "      <div>\n",
              "<style scoped>\n",
              "    .dataframe tbody tr th:only-of-type {\n",
              "        vertical-align: middle;\n",
              "    }\n",
              "\n",
              "    .dataframe tbody tr th {\n",
              "        vertical-align: top;\n",
              "    }\n",
              "\n",
              "    .dataframe thead th {\n",
              "        text-align: right;\n",
              "    }\n",
              "</style>\n",
              "<table border=\"1\" class=\"dataframe\">\n",
              "  <thead>\n",
              "    <tr style=\"text-align: right;\">\n",
              "      <th></th>\n",
              "      <th>0</th>\n",
              "      <th>1</th>\n",
              "      <th>2</th>\n",
              "    </tr>\n",
              "  </thead>\n",
              "  <tbody>\n",
              "    <tr>\n",
              "      <th>0</th>\n",
              "      <td>Danka</td>\n",
              "      <td>Puzović</td>\n",
              "      <td>0701982790052</td>\n",
              "    </tr>\n",
              "    <tr>\n",
              "      <th>1</th>\n",
              "      <td>Ana</td>\n",
              "      <td>Anić</td>\n",
              "      <td>1203945790023</td>\n",
              "    </tr>\n",
              "    <tr>\n",
              "      <th>2</th>\n",
              "      <td>Ranko</td>\n",
              "      <td>Petrović</td>\n",
              "      <td>1405954790023</td>\n",
              "    </tr>\n",
              "    <tr>\n",
              "      <th>3</th>\n",
              "      <td>Branko</td>\n",
              "      <td>Gavrilović</td>\n",
              "      <td>1607982790048</td>\n",
              "    </tr>\n",
              "    <tr>\n",
              "      <th>4</th>\n",
              "      <td>Ivan</td>\n",
              "      <td>Ilić</td>\n",
              "      <td>0305954790025</td>\n",
              "    </tr>\n",
              "    <tr>\n",
              "      <th>5</th>\n",
              "      <td>Nikola</td>\n",
              "      <td>Nikolić</td>\n",
              "      <td>1504972790065</td>\n",
              "    </tr>\n",
              "    <tr>\n",
              "      <th>6</th>\n",
              "      <td>Jovana</td>\n",
              "      <td>Ilić</td>\n",
              "      <td>3011950790045</td>\n",
              "    </tr>\n",
              "    <tr>\n",
              "      <th>7</th>\n",
              "      <td>Milan</td>\n",
              "      <td>Milanović</td>\n",
              "      <td>2912945790065</td>\n",
              "    </tr>\n",
              "    <tr>\n",
              "      <th>8</th>\n",
              "      <td>Bojana</td>\n",
              "      <td>Bojović</td>\n",
              "      <td>0509977790054</td>\n",
              "    </tr>\n",
              "    <tr>\n",
              "      <th>9</th>\n",
              "      <td>Slavica</td>\n",
              "      <td>Paunović</td>\n",
              "      <td>3005980790056</td>\n",
              "    </tr>\n",
              "    <tr>\n",
              "      <th>10</th>\n",
              "      <td>Valentina</td>\n",
              "      <td>Virijević</td>\n",
              "      <td>1605977790025</td>\n",
              "    </tr>\n",
              "    <tr>\n",
              "      <th>11</th>\n",
              "      <td>Bojana</td>\n",
              "      <td>Banović</td>\n",
              "      <td>0304987790058</td>\n",
              "    </tr>\n",
              "    <tr>\n",
              "      <th>12</th>\n",
              "      <td>Matija</td>\n",
              "      <td>Banović</td>\n",
              "      <td>1508983790028</td>\n",
              "    </tr>\n",
              "    <tr>\n",
              "      <th>13</th>\n",
              "      <td>Milan</td>\n",
              "      <td>Stamatović</td>\n",
              "      <td>0406968790025</td>\n",
              "    </tr>\n",
              "    <tr>\n",
              "      <th>14</th>\n",
              "      <td>Ivana</td>\n",
              "      <td>Mitrić</td>\n",
              "      <td>0808974790025</td>\n",
              "    </tr>\n",
              "    <tr>\n",
              "      <th>15</th>\n",
              "      <td>Nemanja</td>\n",
              "      <td>Nikolić</td>\n",
              "      <td>0205985790025</td>\n",
              "    </tr>\n",
              "    <tr>\n",
              "      <th>16</th>\n",
              "      <td>Jovana</td>\n",
              "      <td>Jeremić</td>\n",
              "      <td>0303974790025</td>\n",
              "    </tr>\n",
              "    <tr>\n",
              "      <th>17</th>\n",
              "      <td>Mina</td>\n",
              "      <td>Minić</td>\n",
              "      <td>2602965790025</td>\n",
              "    </tr>\n",
              "    <tr>\n",
              "      <th>18</th>\n",
              "      <td>Nina</td>\n",
              "      <td>Nikolić</td>\n",
              "      <td>3101977790028</td>\n",
              "    </tr>\n",
              "    <tr>\n",
              "      <th>19</th>\n",
              "      <td>Ivona</td>\n",
              "      <td>Mirković</td>\n",
              "      <td>2501975790026</td>\n",
              "    </tr>\n",
              "  </tbody>\n",
              "</table>\n",
              "</div>\n",
              "      <button class=\"colab-df-convert\" onclick=\"convertToInteractive('df-49b7f3e2-e6ab-45ce-94b8-01ffd5912533')\"\n",
              "              title=\"Convert this dataframe to an interactive table.\"\n",
              "              style=\"display:none;\">\n",
              "        \n",
              "  <svg xmlns=\"http://www.w3.org/2000/svg\" height=\"24px\"viewBox=\"0 0 24 24\"\n",
              "       width=\"24px\">\n",
              "    <path d=\"M0 0h24v24H0V0z\" fill=\"none\"/>\n",
              "    <path d=\"M18.56 5.44l.94 2.06.94-2.06 2.06-.94-2.06-.94-.94-2.06-.94 2.06-2.06.94zm-11 1L8.5 8.5l.94-2.06 2.06-.94-2.06-.94L8.5 2.5l-.94 2.06-2.06.94zm10 10l.94 2.06.94-2.06 2.06-.94-2.06-.94-.94-2.06-.94 2.06-2.06.94z\"/><path d=\"M17.41 7.96l-1.37-1.37c-.4-.4-.92-.59-1.43-.59-.52 0-1.04.2-1.43.59L10.3 9.45l-7.72 7.72c-.78.78-.78 2.05 0 2.83L4 21.41c.39.39.9.59 1.41.59.51 0 1.02-.2 1.41-.59l7.78-7.78 2.81-2.81c.8-.78.8-2.07 0-2.86zM5.41 20L4 18.59l7.72-7.72 1.47 1.35L5.41 20z\"/>\n",
              "  </svg>\n",
              "      </button>\n",
              "      \n",
              "  <style>\n",
              "    .colab-df-container {\n",
              "      display:flex;\n",
              "      flex-wrap:wrap;\n",
              "      gap: 12px;\n",
              "    }\n",
              "\n",
              "    .colab-df-convert {\n",
              "      background-color: #E8F0FE;\n",
              "      border: none;\n",
              "      border-radius: 50%;\n",
              "      cursor: pointer;\n",
              "      display: none;\n",
              "      fill: #1967D2;\n",
              "      height: 32px;\n",
              "      padding: 0 0 0 0;\n",
              "      width: 32px;\n",
              "    }\n",
              "\n",
              "    .colab-df-convert:hover {\n",
              "      background-color: #E2EBFA;\n",
              "      box-shadow: 0px 1px 2px rgba(60, 64, 67, 0.3), 0px 1px 3px 1px rgba(60, 64, 67, 0.15);\n",
              "      fill: #174EA6;\n",
              "    }\n",
              "\n",
              "    [theme=dark] .colab-df-convert {\n",
              "      background-color: #3B4455;\n",
              "      fill: #D2E3FC;\n",
              "    }\n",
              "\n",
              "    [theme=dark] .colab-df-convert:hover {\n",
              "      background-color: #434B5C;\n",
              "      box-shadow: 0px 1px 3px 1px rgba(0, 0, 0, 0.15);\n",
              "      filter: drop-shadow(0px 1px 2px rgba(0, 0, 0, 0.3));\n",
              "      fill: #FFFFFF;\n",
              "    }\n",
              "  </style>\n",
              "\n",
              "      <script>\n",
              "        const buttonEl =\n",
              "          document.querySelector('#df-49b7f3e2-e6ab-45ce-94b8-01ffd5912533 button.colab-df-convert');\n",
              "        buttonEl.style.display =\n",
              "          google.colab.kernel.accessAllowed ? 'block' : 'none';\n",
              "\n",
              "        async function convertToInteractive(key) {\n",
              "          const element = document.querySelector('#df-49b7f3e2-e6ab-45ce-94b8-01ffd5912533');\n",
              "          const dataTable =\n",
              "            await google.colab.kernel.invokeFunction('convertToInteractive',\n",
              "                                                     [key], {});\n",
              "          if (!dataTable) return;\n",
              "\n",
              "          const docLinkHtml = 'Like what you see? Visit the ' +\n",
              "            '<a target=\"_blank\" href=https://colab.research.google.com/notebooks/data_table.ipynb>data table notebook</a>'\n",
              "            + ' to learn more about interactive tables.';\n",
              "          element.innerHTML = '';\n",
              "          dataTable['output_type'] = 'display_data';\n",
              "          await google.colab.output.renderOutput(dataTable, element);\n",
              "          const docLink = document.createElement('div');\n",
              "          docLink.innerHTML = docLinkHtml;\n",
              "          element.appendChild(docLink);\n",
              "        }\n",
              "      </script>\n",
              "    </div>\n",
              "  </div>\n",
              "  "
            ]
          },
          "metadata": {},
          "execution_count": 24
        }
      ]
    },
    {
      "cell_type": "markdown",
      "source": [
        "Dalje ove podatke možemo obrađivati i modifikovati na načine koje smo već naučili. Recimo, za sam kraj, dodajmo  nazive kolona sledećoj tabeli"
      ],
      "metadata": {
        "id": "9RURi_h8BnUN"
      }
    },
    {
      "cell_type": "code",
      "source": [
        "licni_podaci.columns=[\"IMe\",\"Prezime\",\"Matični_broj\"]\n",
        "licni_podaci"
      ],
      "metadata": {
        "colab": {
          "base_uri": "https://localhost:8080/",
          "height": 677
        },
        "id": "tiCOqApPCDUF",
        "outputId": "048ff577-f6ba-4946-a9a3-d100a4557cb3"
      },
      "execution_count": 25,
      "outputs": [
        {
          "output_type": "execute_result",
          "data": {
            "text/plain": [
              "          IMe     Prezime   Matični_broj\n",
              "0       Danka     Puzović  0701982790052\n",
              "1         Ana        Anić  1203945790023\n",
              "2       Ranko    Petrović  1405954790023\n",
              "3      Branko  Gavrilović  1607982790048\n",
              "4        Ivan        Ilić  0305954790025\n",
              "5      Nikola     Nikolić  1504972790065\n",
              "6      Jovana        Ilić  3011950790045\n",
              "7       Milan   Milanović  2912945790065\n",
              "8      Bojana     Bojović  0509977790054\n",
              "9     Slavica    Paunović  3005980790056\n",
              "10  Valentina   Virijević  1605977790025\n",
              "11     Bojana     Banović  0304987790058\n",
              "12     Matija     Banović  1508983790028\n",
              "13      Milan  Stamatović  0406968790025\n",
              "14      Ivana      Mitrić  0808974790025\n",
              "15    Nemanja     Nikolić  0205985790025\n",
              "16     Jovana     Jeremić  0303974790025\n",
              "17       Mina       Minić  2602965790025\n",
              "18       Nina     Nikolić  3101977790028\n",
              "19      Ivona    Mirković  2501975790026"
            ],
            "text/html": [
              "\n",
              "  <div id=\"df-87f5f21b-096a-4448-9ec9-59921052b4f2\">\n",
              "    <div class=\"colab-df-container\">\n",
              "      <div>\n",
              "<style scoped>\n",
              "    .dataframe tbody tr th:only-of-type {\n",
              "        vertical-align: middle;\n",
              "    }\n",
              "\n",
              "    .dataframe tbody tr th {\n",
              "        vertical-align: top;\n",
              "    }\n",
              "\n",
              "    .dataframe thead th {\n",
              "        text-align: right;\n",
              "    }\n",
              "</style>\n",
              "<table border=\"1\" class=\"dataframe\">\n",
              "  <thead>\n",
              "    <tr style=\"text-align: right;\">\n",
              "      <th></th>\n",
              "      <th>IMe</th>\n",
              "      <th>Prezime</th>\n",
              "      <th>Matični_broj</th>\n",
              "    </tr>\n",
              "  </thead>\n",
              "  <tbody>\n",
              "    <tr>\n",
              "      <th>0</th>\n",
              "      <td>Danka</td>\n",
              "      <td>Puzović</td>\n",
              "      <td>0701982790052</td>\n",
              "    </tr>\n",
              "    <tr>\n",
              "      <th>1</th>\n",
              "      <td>Ana</td>\n",
              "      <td>Anić</td>\n",
              "      <td>1203945790023</td>\n",
              "    </tr>\n",
              "    <tr>\n",
              "      <th>2</th>\n",
              "      <td>Ranko</td>\n",
              "      <td>Petrović</td>\n",
              "      <td>1405954790023</td>\n",
              "    </tr>\n",
              "    <tr>\n",
              "      <th>3</th>\n",
              "      <td>Branko</td>\n",
              "      <td>Gavrilović</td>\n",
              "      <td>1607982790048</td>\n",
              "    </tr>\n",
              "    <tr>\n",
              "      <th>4</th>\n",
              "      <td>Ivan</td>\n",
              "      <td>Ilić</td>\n",
              "      <td>0305954790025</td>\n",
              "    </tr>\n",
              "    <tr>\n",
              "      <th>5</th>\n",
              "      <td>Nikola</td>\n",
              "      <td>Nikolić</td>\n",
              "      <td>1504972790065</td>\n",
              "    </tr>\n",
              "    <tr>\n",
              "      <th>6</th>\n",
              "      <td>Jovana</td>\n",
              "      <td>Ilić</td>\n",
              "      <td>3011950790045</td>\n",
              "    </tr>\n",
              "    <tr>\n",
              "      <th>7</th>\n",
              "      <td>Milan</td>\n",
              "      <td>Milanović</td>\n",
              "      <td>2912945790065</td>\n",
              "    </tr>\n",
              "    <tr>\n",
              "      <th>8</th>\n",
              "      <td>Bojana</td>\n",
              "      <td>Bojović</td>\n",
              "      <td>0509977790054</td>\n",
              "    </tr>\n",
              "    <tr>\n",
              "      <th>9</th>\n",
              "      <td>Slavica</td>\n",
              "      <td>Paunović</td>\n",
              "      <td>3005980790056</td>\n",
              "    </tr>\n",
              "    <tr>\n",
              "      <th>10</th>\n",
              "      <td>Valentina</td>\n",
              "      <td>Virijević</td>\n",
              "      <td>1605977790025</td>\n",
              "    </tr>\n",
              "    <tr>\n",
              "      <th>11</th>\n",
              "      <td>Bojana</td>\n",
              "      <td>Banović</td>\n",
              "      <td>0304987790058</td>\n",
              "    </tr>\n",
              "    <tr>\n",
              "      <th>12</th>\n",
              "      <td>Matija</td>\n",
              "      <td>Banović</td>\n",
              "      <td>1508983790028</td>\n",
              "    </tr>\n",
              "    <tr>\n",
              "      <th>13</th>\n",
              "      <td>Milan</td>\n",
              "      <td>Stamatović</td>\n",
              "      <td>0406968790025</td>\n",
              "    </tr>\n",
              "    <tr>\n",
              "      <th>14</th>\n",
              "      <td>Ivana</td>\n",
              "      <td>Mitrić</td>\n",
              "      <td>0808974790025</td>\n",
              "    </tr>\n",
              "    <tr>\n",
              "      <th>15</th>\n",
              "      <td>Nemanja</td>\n",
              "      <td>Nikolić</td>\n",
              "      <td>0205985790025</td>\n",
              "    </tr>\n",
              "    <tr>\n",
              "      <th>16</th>\n",
              "      <td>Jovana</td>\n",
              "      <td>Jeremić</td>\n",
              "      <td>0303974790025</td>\n",
              "    </tr>\n",
              "    <tr>\n",
              "      <th>17</th>\n",
              "      <td>Mina</td>\n",
              "      <td>Minić</td>\n",
              "      <td>2602965790025</td>\n",
              "    </tr>\n",
              "    <tr>\n",
              "      <th>18</th>\n",
              "      <td>Nina</td>\n",
              "      <td>Nikolić</td>\n",
              "      <td>3101977790028</td>\n",
              "    </tr>\n",
              "    <tr>\n",
              "      <th>19</th>\n",
              "      <td>Ivona</td>\n",
              "      <td>Mirković</td>\n",
              "      <td>2501975790026</td>\n",
              "    </tr>\n",
              "  </tbody>\n",
              "</table>\n",
              "</div>\n",
              "      <button class=\"colab-df-convert\" onclick=\"convertToInteractive('df-87f5f21b-096a-4448-9ec9-59921052b4f2')\"\n",
              "              title=\"Convert this dataframe to an interactive table.\"\n",
              "              style=\"display:none;\">\n",
              "        \n",
              "  <svg xmlns=\"http://www.w3.org/2000/svg\" height=\"24px\"viewBox=\"0 0 24 24\"\n",
              "       width=\"24px\">\n",
              "    <path d=\"M0 0h24v24H0V0z\" fill=\"none\"/>\n",
              "    <path d=\"M18.56 5.44l.94 2.06.94-2.06 2.06-.94-2.06-.94-.94-2.06-.94 2.06-2.06.94zm-11 1L8.5 8.5l.94-2.06 2.06-.94-2.06-.94L8.5 2.5l-.94 2.06-2.06.94zm10 10l.94 2.06.94-2.06 2.06-.94-2.06-.94-.94-2.06-.94 2.06-2.06.94z\"/><path d=\"M17.41 7.96l-1.37-1.37c-.4-.4-.92-.59-1.43-.59-.52 0-1.04.2-1.43.59L10.3 9.45l-7.72 7.72c-.78.78-.78 2.05 0 2.83L4 21.41c.39.39.9.59 1.41.59.51 0 1.02-.2 1.41-.59l7.78-7.78 2.81-2.81c.8-.78.8-2.07 0-2.86zM5.41 20L4 18.59l7.72-7.72 1.47 1.35L5.41 20z\"/>\n",
              "  </svg>\n",
              "      </button>\n",
              "      \n",
              "  <style>\n",
              "    .colab-df-container {\n",
              "      display:flex;\n",
              "      flex-wrap:wrap;\n",
              "      gap: 12px;\n",
              "    }\n",
              "\n",
              "    .colab-df-convert {\n",
              "      background-color: #E8F0FE;\n",
              "      border: none;\n",
              "      border-radius: 50%;\n",
              "      cursor: pointer;\n",
              "      display: none;\n",
              "      fill: #1967D2;\n",
              "      height: 32px;\n",
              "      padding: 0 0 0 0;\n",
              "      width: 32px;\n",
              "    }\n",
              "\n",
              "    .colab-df-convert:hover {\n",
              "      background-color: #E2EBFA;\n",
              "      box-shadow: 0px 1px 2px rgba(60, 64, 67, 0.3), 0px 1px 3px 1px rgba(60, 64, 67, 0.15);\n",
              "      fill: #174EA6;\n",
              "    }\n",
              "\n",
              "    [theme=dark] .colab-df-convert {\n",
              "      background-color: #3B4455;\n",
              "      fill: #D2E3FC;\n",
              "    }\n",
              "\n",
              "    [theme=dark] .colab-df-convert:hover {\n",
              "      background-color: #434B5C;\n",
              "      box-shadow: 0px 1px 3px 1px rgba(0, 0, 0, 0.15);\n",
              "      filter: drop-shadow(0px 1px 2px rgba(0, 0, 0, 0.3));\n",
              "      fill: #FFFFFF;\n",
              "    }\n",
              "  </style>\n",
              "\n",
              "      <script>\n",
              "        const buttonEl =\n",
              "          document.querySelector('#df-87f5f21b-096a-4448-9ec9-59921052b4f2 button.colab-df-convert');\n",
              "        buttonEl.style.display =\n",
              "          google.colab.kernel.accessAllowed ? 'block' : 'none';\n",
              "\n",
              "        async function convertToInteractive(key) {\n",
              "          const element = document.querySelector('#df-87f5f21b-096a-4448-9ec9-59921052b4f2');\n",
              "          const dataTable =\n",
              "            await google.colab.kernel.invokeFunction('convertToInteractive',\n",
              "                                                     [key], {});\n",
              "          if (!dataTable) return;\n",
              "\n",
              "          const docLinkHtml = 'Like what you see? Visit the ' +\n",
              "            '<a target=\"_blank\" href=https://colab.research.google.com/notebooks/data_table.ipynb>data table notebook</a>'\n",
              "            + ' to learn more about interactive tables.';\n",
              "          element.innerHTML = '';\n",
              "          dataTable['output_type'] = 'display_data';\n",
              "          await google.colab.output.renderOutput(dataTable, element);\n",
              "          const docLink = document.createElement('div');\n",
              "          docLink.innerHTML = docLinkHtml;\n",
              "          element.appendChild(docLink);\n",
              "        }\n",
              "      </script>\n",
              "    </div>\n",
              "  </div>\n",
              "  "
            ]
          },
          "metadata": {},
          "execution_count": 25
        }
      ]
    },
    {
      "cell_type": "markdown",
      "source": [
        "Zadatak4. Iz tabele transakcija preuzmi kolone broj_racuna, datum, iznos koji će predstavljati sve transakcije po računima a zatim sve smesti u tabelu transakcije_po_racunima i promeni nazive kolona."
      ],
      "metadata": {
        "id": "HLoyhvYkC4Iq"
      }
    },
    {
      "cell_type": "code",
      "source": [
        ""
      ],
      "metadata": {
        "id": "qKRFg4NuDgfB"
      },
      "execution_count": null,
      "outputs": []
    }
  ]
}