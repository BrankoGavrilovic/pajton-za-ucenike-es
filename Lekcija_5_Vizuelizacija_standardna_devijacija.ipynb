{
  "nbformat": 4,
  "nbformat_minor": 0,
  "metadata": {
    "colab": {
      "name": "Lekcija 5-Vizuelizacija - standardna devijacija",
      "provenance": [],
      "collapsed_sections": [],
      "authorship_tag": "ABX9TyNWUo+g0Hwb4d6DfRY5yVKg",
      "include_colab_link": true
    },
    "kernelspec": {
      "name": "python3",
      "display_name": "Python 3"
    },
    "language_info": {
      "name": "python"
    }
  },
  "cells": [
    {
      "cell_type": "markdown",
      "metadata": {
        "id": "view-in-github",
        "colab_type": "text"
      },
      "source": [
        "<a href=\"https://colab.research.google.com/github/BrankoGavrilovic/pajton-za-ucenike-es/blob/main/Lekcija_5_Vizuelizacija_standardna_devijacija.ipynb\" target=\"_parent\"><img src=\"https://colab.research.google.com/assets/colab-badge.svg\" alt=\"Open In Colab\"/></a>"
      ]
    },
    {
      "cell_type": "markdown",
      "source": [
        "U ovoj lekciji naučićemo još bitnih stvari koje možemo koristiti za vizuelizaciju podataka. Prošlu lekciju smo završili sa primerom gde smo na istom grafikonu u tačkastom obliku predstavili dva oblika podataka.Sada ćemo isti primer uraditi tako  što ćemo podatke predstaviti stubićima na istom grafikonu."
      ],
      "metadata": {
        "id": "rVpEDSL1vXKF"
      }
    },
    {
      "cell_type": "code",
      "execution_count": 2,
      "metadata": {
        "colab": {
          "base_uri": "https://localhost:8080/",
          "height": 295
        },
        "id": "b3d1QPhjvSDA",
        "outputId": "6530a0ca-23f1-4975-95df-00e03d44134f"
      },
      "outputs": [
        {
          "output_type": "display_data",
          "data": {
            "text/plain": [
              "<Figure size 432x288 with 1 Axes>"
            ],
            "image/png": "[encoded data removed]"
          },
          "metadata": {
            "needs_background": "light"
          }
        }
      ],
      "source": [
        "import matplotlib.pyplot as plt\n",
        "starost=[\"0-2\",\"3-10\",\"11-65\",\"65+\"]\n",
        "donja=[34.7,35.9,33.2,35.6] # lista donjih temperatura dece po uzrastu\n",
        "gornja=[37.3,36.7,36.9,36.2] # lista gornjih temperatura dece po uzrastu\n",
        "plt.bar(starost,gornja,color=\"red\")# predstavimo donje temperature i to crvenom bojom\n",
        "plt.bar(starost,donja, color=\"green\") # pa na istom grafikonu donja zelenom bojom\n",
        "#napomena: da smo prvo predstavili donje pa gornje došlo crvena boja kao druga bi prešla preko zelene i ne bi dobili jasan grafikon\n",
        "plt.title(\"Temperature dece\")\n",
        "plt.xlabel(\"Starost\")\n",
        "plt.ylabel(\"Temperatura\")\n",
        "plt.show()"
      ]
    },
    {
      "cell_type": "markdown",
      "source": [
        "Uočavamo da prethodni grafikon ne prikazuje najasnije tu razliku između gornje i donje temperatire zato što y osa kreće od nule. Obzirom da opseg temeratura ide od 34 do 39 možemo ograničiti prikaz na y osi od 33 do 39 opcijom ylim(donja granica prikza,gornja granica prikaza)"
      ],
      "metadata": {
        "id": "QYk3YMRLyGpO"
      }
    },
    {
      "cell_type": "code",
      "source": [
        "import matplotlib.pyplot as plt\n",
        "starost=[\"0-2\",\"3-10\",\"11-65\",\"65+\"]\n",
        "donja=[34.7,35.9,33.2,35.6] # lista donjih temperatura dece po uzrastu\n",
        "gornja=[37.3,36.7,36.9,36.2] # lista gornjih temperatura dece po uzrastu\n",
        "plt.bar(starost,gornja,color=\"red\")# predstavimo donje temperature i to crvenom bojom\n",
        "plt.bar(starost,donja, color=\"green\") # pa na istom grafikonu donja zelenom bojom\n",
        "#napomena: da smo prvo predstavili donje pa gornje došlo crvena boja kao druga bi prešla preko zelene i ne bi dobili jasan grafikon\n",
        "plt.title(\"Temperature dece\")\n",
        "plt.xlabel(\"Starost\")\n",
        "plt.ylabel(\"Temperatura\")\n",
        "plt.ylim(33,39)\n",
        "plt.show()"
      ],
      "metadata": {
        "colab": {
          "base_uri": "https://localhost:8080/",
          "height": 295
        },
        "id": "lZ0tJqvPyszR",
        "outputId": "3f5490e1-0b1e-4431-f8f6-9d6a1a3faf7b"
      },
      "execution_count": 5,
      "outputs": [
        {
          "output_type": "display_data",
          "data": {
            "text/plain": [
              "<Figure size 432x288 with 1 Axes>"
            ],
            "image/png": "[encoded data removed]"
          },
          "metadata": {
            "needs_background": "light"
          }
        }
      ]
    },
    {
      "cell_type": "markdown",
      "source": [
        "Pogledajmo zanimljivu upotrebu ovog koncepta i matematici."
      ],
      "metadata": {
        "id": "davbzuzOzJrV"
      }
    },
    {
      "cell_type": "markdown",
      "source": [
        "Primer 1.Grafičkom metodom raši sistem jednačina y= 2x-1 i y=3x-2"
      ],
      "metadata": {
        "id": "RU9CkoeR0fF6"
      }
    },
    {
      "cell_type": "code",
      "source": [
        "import matplotlib.pyplot as plt\n",
        "x=[-4,-3,-2,-1,0,1,2,3,4,5]\n",
        "y1=[]# niz vrednosti y za prvu funkciju na početku inicijalizujemo kao prazan\n",
        "y2=[]# niz vrednosti y za drugu funkciju na početku inicijalizujemo kao prazan\n",
        "for i in x:\n",
        "  y1.append(2*i-1)# za svako x u nizu izračunaj y za prvu funkciju i dodaj u niz vrednost y1\n",
        "  y2.append(3*i-2)# za svako x u nizu izračunaj y za drugu funkciju i dodaj u niz vrednost y2\n",
        "       \n",
        "plt.plot(x,y1,color=\"red\",label=\"2i-1\")  \n",
        "plt.plot(x,y2,color=\"green\",label=\"3i-2\")\n",
        "plt.legend()\n",
        "plt.show()\n",
        "  \n"
      ],
      "metadata": {
        "colab": {
          "base_uri": "https://localhost:8080/",
          "height": 265
        },
        "id": "QD7BYrNe0zb7",
        "outputId": "8ed12ae8-de6e-43f8-f11a-a3043b9f3e56"
      },
      "execution_count": 14,
      "outputs": [
        {
          "output_type": "display_data",
          "data": {
            "text/plain": [
              "<Figure size 432x288 with 1 Axes>"
            ],
            "image/png": "[encoded data removed]"
          },
          "metadata": {
            "needs_background": "light"
          }
        }
      ]
    },
    {
      "cell_type": "markdown",
      "source": [
        "Uočimo da je rešenje u opsegu od -3 do 3 radi jasnijeg prikaza dodajmo ylim(-3,3) a xlim(-1,2)"
      ],
      "metadata": {
        "id": "-9z8Stbq36XG"
      }
    },
    {
      "cell_type": "code",
      "source": [
        "import matplotlib.pyplot as plt\n",
        "x=[-4,-3,-2,-1,0,1,2,3,4,5]\n",
        "y1=[]\n",
        "y2=[]\n",
        "for i in x:\n",
        "  y1.append(2*i-1)\n",
        "  y2.append(3*i-2)\n",
        "       \n",
        "plt.plot(x,y1,color=\"red\",label=\"2i-1\")  \n",
        "plt.plot(x,y2,color=\"green\",label=\"3i-2\")\n",
        "plt.xlim(-1,2)\n",
        "plt.ylim(-3,3)\n",
        "plt.legend()\n",
        "plt.show()"
      ],
      "metadata": {
        "colab": {
          "base_uri": "https://localhost:8080/",
          "height": 269
        },
        "id": "TvwbCzge4Koq",
        "outputId": "1f7471f4-798d-421a-a738-2bc3d602028b"
      },
      "execution_count": 16,
      "outputs": [
        {
          "output_type": "display_data",
          "data": {
            "text/plain": [
              "<Figure size 432x288 with 1 Axes>"
            ],
            "image/png": "[encoded data removed]"
          },
          "metadata": {
            "needs_background": "light"
          }
        }
      ]
    },
    {
      "cell_type": "markdown",
      "source": [
        "U okviru jednog prikaza moguće je prikazati više grafikona. Ovo je posebno značajno kod poslovnih izveštaja gde bi bilo dobro više vizuelizacija prikazati odjednom. U tu svrhu koristimo naredbu subplot(broj vrsta,brojkolona,mesto gde će biti prikazan prikaz). Pogledajmo sledeći primer koji prikazuje u isto vreme uspeh učenika i strukturu po polu\n",
        "\n"
      ],
      "metadata": {
        "id": "cX9vXLa05oh6"
      }
    },
    {
      "cell_type": "code",
      "source": [
        "import matplotlib.pyplot as plt\n",
        "\n",
        "#plot 1:\n",
        "uspeh=[\"odl\",\"vrl do\",\"dob\",\"dov\",\"nedov\"]\n",
        "broj=[5,7,12,5,1]\n",
        "plt.subplot(1, 2, 1)# naš prikaz ima 1 vrstu i dve kolone a prvi plot se nalazi na prvom mestu\n",
        "plt.bar(uspeh,broj)# prvi prikaz su stubići na x osi sspeh a na y broj učenika po uspehu\n",
        "\n",
        "#plot 2:\n",
        "pol=[\"Devojčica 12\",\"Dečaka 18\"]\n",
        "broj_po_polu=[12,18]\n",
        "\n",
        "plt.subplot(1, 2, 2)# naš prikaz ima 1 vrstu i dve kolone ( kao što smo rekli) a drugi plot se nalazi na prvom mestu\n",
        "plt.pie(broj_po_polu,labels=pol)# drugi prikaz je pitica (bar)\n",
        "\n",
        "plt.show()"
      ],
      "metadata": {
        "colab": {
          "base_uri": "https://localhost:8080/",
          "height": 265
        },
        "id": "KhK3cQet5oHW",
        "outputId": "9d2c769b-a701-425b-e18d-02864a7c3e74"
      },
      "execution_count": 20,
      "outputs": [
        {
          "output_type": "display_data",
          "data": {
            "text/plain": [
              "<Figure size 432x288 with 2 Axes>"
            ],
            "image/png": "[encoded data removed]"
          },
          "metadata": {
            "needs_background": "light"
          }
        }
      ]
    },
    {
      "cell_type": "markdown",
      "source": [
        "Zadatak. U prethodnim prikazima dodaj naslove iznad odgovarajućih grafikona"
      ],
      "metadata": {
        "id": "r0uADC5J9WSu"
      }
    },
    {
      "cell_type": "code",
      "source": [
        ""
      ],
      "metadata": {
        "id": "1L6U3sL297WL"
      },
      "execution_count": null,
      "outputs": []
    },
    {
      "cell_type": "markdown",
      "source": [
        "Osim"
      ],
      "metadata": {
        "id": "vhx3F0bJ-Cxs"
      }
    },
    {
      "cell_type": "code",
      "source": [
        "import matplotlib.pyplot as plt\n",
        "from statistics import mean # uvozimo funkciju mean koja računa prosek\n",
        "\n",
        "#plot 1:\n",
        "predmeti=[\"mat\",\"eng\",\"ist\",\"osig\",\"banka\"]\n",
        "broj=[5,3,4,3,2]\n",
        "prosek=mean(broj)\n",
        "\n",
        "plt.bar(uspeh,broj)# prikaz ocena stubi'ima\n",
        "plt.plot(predmeti,5*[prosek],color=\"red\") # crtamo liniju koja predstavlja prosek tako što je prva koordinata predmeti a druga niz koji ima \n",
        "                                          # pet istih članova koji su jednaki proseku tj. [prosek,prosek,prosek,prosek,prosek]\n",
        "print(\"Prosečna ocena iz ovih predmeta je: \",prosek) # ispiši prosek\n"
      ],
      "metadata": {
        "colab": {
          "base_uri": "https://localhost:8080/",
          "height": 283
        },
        "id": "3j0WF0br-HKS",
        "outputId": "df15dc11-2639-40c0-d577-17ceef64f66d"
      },
      "execution_count": 25,
      "outputs": [
        {
          "output_type": "stream",
          "name": "stdout",
          "text": [
            "Prosečna ocena iz ovih predmeta je:  3.4\n"
          ]
        },
        {
          "output_type": "display_data",
          "data": {
            "text/plain": [
              "<Figure size 432x288 with 1 Axes>"
            ],
            "image/png": "[encoded data removed]"
          },
          "metadata": {
            "needs_background": "light"
          }
        }
      ]
    },
    {
      "cell_type": "markdown",
      "source": [
        "**Standardna devijacija**\n",
        "Varijansa je mera odstupanja vrednosti od njene srednje vrednosti:Koren iz varijanse je standardna devijacija i određuje normalan opseg raspršenosti oko normalne vrednosti."
      ],
      "metadata": {
        "id": "N7mqjN0lMB-E"
      }
    },
    {
      "cell_type": "code",
      "source": [
        "from statistics import stdev # funkcija za izračunavanje  standardne devijacije \n",
        "from statistics import mean\n",
        "\n",
        "L=[183,182,176,184,195,188,184]\n",
        "mean(L),stdev(L)"
      ],
      "metadata": {
        "colab": {
          "base_uri": "https://localhost:8080/"
        },
        "id": "lJGAhgCxLHkn",
        "outputId": "3adc4025-288f-4629-f1bc-57b656e8c6c6"
      },
      "execution_count": 4,
      "outputs": [
        {
          "output_type": "execute_result",
          "data": {
            "text/plain": [
              "(184.57142857142858, 5.826867164470197)"
            ]
          },
          "metadata": {},
          "execution_count": 4
        }
      ]
    },
    {
      "cell_type": "markdown",
      "source": [
        "Prethodni primer nam govori da je srednja vrednost uzorka 184.57... a mera normalnosti vrednosti je u opsegu +- 5.82 Sada ćemo izdvojiti one vrednosti koje upadaju u normalan opseg."
      ],
      "metadata": {
        "id": "m0mBUg0ENk-T"
      }
    },
    {
      "cell_type": "code",
      "source": [
        "from statistics import stdev\n",
        "from statistics import mean\n",
        "\n",
        "L=[183,182,176,184,195,188,184]\n",
        "gornja=mean(L)+stdev(L)\n",
        "donja=mean(L)-stdev(L)\n",
        "normalno=[x for x in L if ((x<gornja)and(x>donja))] # operator and je logički operator i (dakle normalne su one vrednosti koje su manje od gornje \n",
        "                                                    #a  I koje su veće od donje granice)\n",
        "normalno"
      ],
      "metadata": {
        "colab": {
          "base_uri": "https://localhost:8080/"
        },
        "id": "8XRARtCwOL9J",
        "outputId": "0c3c28d4-8598-499c-b30d-995827f29e7e"
      },
      "execution_count": 7,
      "outputs": [
        {
          "output_type": "execute_result",
          "data": {
            "text/plain": [
              "[183, 182, 184, 188, 184]"
            ]
          },
          "metadata": {},
          "execution_count": 7
        }
      ]
    },
    {
      "cell_type": "markdown",
      "source": [
        "\n",
        "Primer. Predstavi visine sedam učenika uz pomoć stubića, kao i srednju vrednost i opseg normalnosti uzorka. Ispiši poruku o tome kolika je srednja vrednost,koji je opseg normalnosti uzorka, kao i koliko učenika zadovoljav taj uslov"
      ],
      "metadata": {
        "id": "stjAAJMtQ216"
      }
    },
    {
      "cell_type": "code",
      "source": [
        "import matplotlib.pyplot as plt\n",
        "\n",
        "from statistics import stdev\n",
        "from statistics import mean\n",
        "ime=[\"Marko\",\"Janko\",\"Aco\",\"Jovan\",\"Miloš\",\"Josip\",\"Dejan\"]\n",
        "visina=[183,182,176,184,195,188,184]\n",
        "gornja=mean(visina)+stdev(visina)# gornja granica je srednja vrednost + stndardna devijacija\n",
        "donja=mean(visina)-stdev(visina)# donja granica je srednja vrednost - standardna devijacija\n",
        "normalno=[x for x in L if ((x<gornja)and(x>donja))] # formirajmo listu normalno u koju smeštamo samo one visine koje su u granicama\n",
        "plt.plot(ime,7*[mean(visina)],color=\"red\",label=\"srednja vrednost\")# crtamo pravu za srednju vrednost\n",
        "plt.plot(ime,7*[donja],color=\"blue\",label=\"donja granica\")#crtamo pravu za donju vrednost\n",
        "plt.plot(ime,7*[gornja],color=\"yellow\",label=\"gornja granica\")#crtamo pravu za gornju vrednost\n",
        "plt.legend()\n",
        "\n",
        "\n",
        "plt.bar(ime,visina,color=\"green\")\n",
        "plt.ylim(174,198)\n",
        "\n",
        "\n",
        "print(\"Srednja vrenost visina uzorka je \",mean(visina), \"dok je normalan opseg od\",donja,\"do\",gornja,\"i u tom opsegu ima\",len(normalno),\"učenika\")# len(normalno) je funkcija koja određuje dužinu niza normalno)"
      ],
      "metadata": {
        "colab": {
          "base_uri": "https://localhost:8080/",
          "height": 283
        },
        "id": "KPcPcfvyRGao",
        "outputId": "dffb83ce-3523-49c5-ff08-2e7516036e9b"
      },
      "execution_count": 35,
      "outputs": [
        {
          "output_type": "stream",
          "name": "stdout",
          "text": [
            "Srednja vrenost visina uzorka je  184.57142857142858 dok je normalan opseg od 178.74456140695838 do 190.39829573589878 i u tom opsegu ima 5 učenika\n"
          ]
        },
        {
          "output_type": "display_data",
          "data": {
            "text/plain": [
              "<Figure size 432x288 with 1 Axes>"
            ],
            "image/png": "[encoded data removed]"
          },
          "metadata": {
            "needs_background": "light"
          }
        }
      ]
    },
    {
      "cell_type": "markdown",
      "source": [
        "Zadatak za vežbu. Naravi listu u kojoj ćeš smestiti visine osam učenika a zatim odredi opseg normalnosti i grafički predtavi kao u prethodnom primeru uz ispis o srednjoj vrednoti i opsegu raspršenosti oko srednje vrednosti kao u prethodnom primeru"
      ],
      "metadata": {
        "id": "BwQEwhe4ikMu"
      }
    },
    {
      "cell_type": "code",
      "source": [
        ""
      ],
      "metadata": {
        "id": "dcNzFvegjjLh"
      },
      "execution_count": null,
      "outputs": []
    }
  ]
}