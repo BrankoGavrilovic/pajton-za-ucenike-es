{
  "nbformat": 4,
  "nbformat_minor": 0,
  "metadata": {
    "colab": {
      "name": "Lekcija 2-Kontrole toka  ",
      "provenance": [],
      "collapsed_sections": [],
      "authorship_tag": "ABX9TyO7/gDIc7iSoJ6DaZvlnbpP",
      "include_colab_link": true
    },
    "kernelspec": {
      "name": "python3",
      "display_name": "Python 3"
    },
    "language_info": {
      "name": "python"
    }
  },
  "cells": [
    {
      "cell_type": "markdown",
      "metadata": {
        "id": "view-in-github",
        "colab_type": "text"
      },
      "source": [
        "<a href=\"https://colab.research.google.com/github/BrankoGavrilovic/pajton-za-ucenike-es/blob/main/Lekcija_2_Kontrole_toka.ipynb\" target=\"_parent\"><img src=\"https://colab.research.google.com/assets/colab-badge.svg\" alt=\"Open In Colab\"/></a>"
      ]
    },
    {
      "cell_type": "markdown",
      "source": [
        "Na poćetku ćemo naučiti naredbe kontrole toka programa. \n",
        "\n"
      ],
      "metadata": {
        "id": "zIjxliCwuiqD"
      }
    },
    {
      "cell_type": "markdown",
      "source": [
        "**petlja if**\n"
      ],
      "metadata": {
        "id": "GlHiVuXV6t0Q"
      }
    },
    {
      "cell_type": "markdown",
      "source": [
        "Petlja if proverava da li je neki uslov ispunjen i u zavisnosti od toga izvršava komande.Pogledajmo sledeći primer."
      ],
      "metadata": {
        "id": "B4eVHftQ69X4"
      }
    },
    {
      "cell_type": "markdown",
      "source": [
        "Primer 1. Napiši program koji postavlja vrednost promenjive stanje_racuna na 10000 dinara a zatim od korisnika traži da unese iznos sredstava koje želi da podigne.Ukoliko ima novca ispisuje \"Imate dovoljno sredstava\" a ukoliko uslov nije zadovoljen ispisuje \"Nemate dovoljno sredstava\"."
      ],
      "metadata": {
        "id": "c6tSy0ncAmKG"
      }
    },
    {
      "cell_type": "code",
      "source": [
        "stanje_racuna=10000\n",
        "iznos=float(input(\"Unesi iznos koji želite da podignete: \"))\n",
        "if (stanje_racuna>iznos): #proverava uslov\n",
        "  print(\"Imate dovoljno sredstava\") # ako je tačan ispiši imate novca\n",
        "else : # uslov nije zadovoljen\n",
        "  print(\"Nemate dovoljno novca\")  # uradi opcionu komandu"
      ],
      "metadata": {
        "id": "mtEVOBTOAkLH"
      },
      "execution_count": null,
      "outputs": []
    },
    {
      "cell_type": "markdown",
      "source": [
        "Primer 2.Napiši program koji iod korisnika traži unos podatka koji određuje da li je vreme dato u danima - d,mesecima -m ili godinama-g i ispisuje odgovarajuću poruku."
      ],
      "metadata": {
        "id": "b26H8KzyCoNP"
      }
    },
    {
      "cell_type": "code",
      "execution_count": null,
      "metadata": {
        "id": "kROVc0M5uOLk"
      },
      "outputs": [],
      "source": [
        "jedinica_vremena=input(\"Unesi jedinicu vremena i to: d - za dane,m - za mesece ili g - za godine\" )\n",
        "if(jedinica_vremena==\"d\"):\n",
        "  print(\"Vreme je dato u danima\")\n",
        "elif(jedinica_vremena==\"m\"):\n",
        "  print(\"Vreme je dato u mesecima\")\n",
        "elif(jedinica_vremena==\"g\"):\n",
        "  print(\"Vreme je dato u godinama\")  "
      ]
    },
    {
      "cell_type": "markdown",
      "source": [
        "Zadatak1 Promeni kod u prethodnom zadatku tako da ukoliko korisnik greškom unese nešto što nije traženo ispisuje poruku o grešci prilikom unosa."
      ],
      "metadata": {
        "id": "t6EOksYbF9RP"
      }
    },
    {
      "cell_type": "code",
      "source": [
        "edinica_vremena=input(\"Unesi jedinicu vremena i to: d - za dane,m - za mesece ili g - za godine\" )\n",
        "if(jedinica_vremena==\"d\"):\n",
        "  print(\"Vreme je dato u danima\")\n",
        "elif(jedinica_vremena==\"m\"):\n",
        "  print(\"Vreme je dato u mesecima\")\n",
        "elif(jedinica_vremena==\"g\"):\n",
        "  print(\"Vreme je dato u godinama\") \n",
        "#ovde dodaj liniju koda koja nedostaje"
      ],
      "metadata": {
        "id": "XXSUcAQvGTPi"
      },
      "execution_count": null,
      "outputs": []
    },
    {
      "cell_type": "markdown",
      "source": [
        "**Petlja for.**\n"
      ],
      "metadata": {
        "id": "PKxJJaahHEsE"
      }
    },
    {
      "cell_type": "markdown",
      "source": [
        "For petlja je petlja višestrukog ponavljanja.\n",
        "Pogledajmo sledeći primer."
      ],
      "metadata": {
        "id": "9uCOYZKc7XgQ"
      }
    },
    {
      "cell_type": "markdown",
      "source": [
        "Primer 3. Napiši program koji 5 puta ispisuje reč \"Zdravo\""
      ],
      "metadata": {
        "id": "c82URNBkH5-T"
      }
    },
    {
      "cell_type": "code",
      "source": [
        "for i in range(5):\n",
        "  print(\"Zdravo\")"
      ],
      "metadata": {
        "id": "3wfb9tRAIeSC"
      },
      "execution_count": null,
      "outputs": []
    },
    {
      "cell_type": "markdown",
      "source": [
        "Primer4. Napiši program koji ispisuje prvih 30 prirodnih brojeva."
      ],
      "metadata": {
        "id": "0OqSbI6tIrvb"
      }
    },
    {
      "cell_type": "code",
      "source": [
        "for i in range(1,31):# uoči da prvi broj ulazi u opseg dok poslednji ne\n",
        "  print(i)"
      ],
      "metadata": {
        "id": "-J3EbxahI5if"
      },
      "execution_count": null,
      "outputs": []
    },
    {
      "cell_type": "markdown",
      "source": [
        "\n",
        "Zadatak 2. Napiši program koji ispisuje prirodne brojeve od dva zaključno sa 8.\n",
        "\n"
      ],
      "metadata": {
        "id": "yrP6IN9xJTCX"
      }
    },
    {
      "cell_type": "code",
      "source": [
        ""
      ],
      "metadata": {
        "id": "0tz9jg0LJSHw"
      },
      "execution_count": null,
      "outputs": []
    },
    {
      "cell_type": "markdown",
      "source": [
        "Primer 3. Napiši program koji od korisnika zahteva unos tri broja i ispisuje njihov zbir"
      ],
      "metadata": {
        "id": "0mnaOPiOJ7Tw"
      }
    },
    {
      "cell_type": "code",
      "source": [
        "zbir=0 # definišemo i inijalizujemo promenjivu koja zbraja\n",
        "for i in range(3):  #  ponavljaj 3 puta\n",
        "  a=int(input(\"Unesi broj\")) # unesi broj\n",
        "  zbir=zbir+a # uvečaj za uneti broj\n",
        "print(zbir)  # izađi iz petlje i odštampaj zbir.Uoči da smo sa naredbom print izašli iz petlje tako što smo je napisli na početku."
      ],
      "metadata": {
        "id": "Zsiq6PFSK_KK"
      },
      "execution_count": null,
      "outputs": []
    },
    {
      "cell_type": "markdown",
      "source": [
        "Primer 4. Napiši program koji inicijalizuje promenjivu stanje_racuna na 100000 dinara. Zatim se od korisnika traži da unese tri promene na računu i to tako što isplatu pišemo sa predznakom-(npr -100 označava isplatu od 100 dinara).Nakon unetih transakcija ispisuje novo stanje. "
      ],
      "metadata": {
        "id": "3tNnqPTDMaha"
      }
    },
    {
      "cell_type": "code",
      "source": [
        "stanje_racuna=100000\n",
        "for i in range(3):\n",
        "  transakcija=float(input(\"Unesi transakciju\"))\n",
        "  stanje_racuna+=transakcija # drugi oblik naredbe stanje_racuna=stanje_racuna+transakcija\n",
        "print(stanje_racuna) "
      ],
      "metadata": {
        "id": "qQBZq7X1MZ4v"
      },
      "execution_count": null,
      "outputs": []
    },
    {
      "cell_type": "markdown",
      "source": [
        "Zadatak 3. Modifikuj prethodni primer tako da posle tri transakcije proverava stanje računa i ukoliko je stanje_racuna<0 ispisuje da ste u nedozvoljenom minusu dok u suprotnom ispisuje stanje."
      ],
      "metadata": {
        "id": "jrHFh05MOEIo"
      }
    },
    {
      "cell_type": "code",
      "source": [
        "tanje_racuna=100000\n",
        "for i in range(3):\n",
        "  transakcija=float(input(\"Unesi transakciju\"))\n",
        "  stanje_racuna+=transakcija # drugi oblik naredbe stanje_racuna=stanje_racuna+transakcija\n",
        "# napiši kod koji nedostaje"
      ],
      "metadata": {
        "id": "JNEIxS1FOk-F"
      },
      "execution_count": null,
      "outputs": []
    },
    {
      "cell_type": "markdown",
      "source": [
        "**Složen kamatni račun**"
      ],
      "metadata": {
        "id": "CMuRRSW70pQD"
      }
    },
    {
      "cell_type": "markdown",
      "source": [
        " Složen kamatni račun je račun kod koga se na kraju svakog perioda kamata dodaje glavnici da bi se u naredni period ušlo sa uvećanom glavnicom .  U nastavi koristimo formulu Kn=K0*r^n gde je Kn uvećana glavnica, K0 početna vrednost n broj perioda a r=(1+p)^n *italicized text*"
      ],
      "metadata": {
        "id": "q52gGGHR009P"
      }
    },
    {
      "cell_type": "markdown",
      "source": [
        "Pogledajmo sledeći primer koji ćemo uraditi na dva načina.Prvi, naravno direktnom primenom i izračunavanjem uz pomoć formule dok je drugi algoritamski način koji ne zahteva poznavanje formule a koji opisuje problem uz petlje for."
      ],
      "metadata": {
        "id": "12tu9dyM1Qi_"
      }
    },
    {
      "cell_type": "markdown",
      "source": [
        "Primer 5. Napiši program koji računa uvećanu sumu glavnice od 100 000 dinara za vreme od 9 godina uz 6%(pa)d i godišnje kapitalisanje . "
      ],
      "metadata": {
        "id": "QcUk7elTxy4r"
      }
    },
    {
      "cell_type": "markdown",
      "source": [
        "**Prvi način**"
      ],
      "metadata": {
        "id": "UvjK7ONJ2RZX"
      }
    },
    {
      "cell_type": "code",
      "source": [
        "pocetna_suma=100000\n",
        "kamatna_stopa=0.06\n",
        "broj_perioda=9\n",
        "r=1+kamatna_stopa\n",
        "uvecana_suma=pocetna_suma*r**broj_perioda # stepenovanje se vrši operatorom **\n",
        "uvecana_suma\n",
        "\n"
      ],
      "metadata": {
        "id": "as_lxL_j2WOT"
      },
      "execution_count": null,
      "outputs": []
    },
    {
      "cell_type": "markdown",
      "source": [
        "**Drugi način**"
      ],
      "metadata": {
        "id": "LFWIIbXW32CJ"
      }
    },
    {
      "cell_type": "code",
      "source": [
        "pocetna_suma=100000\n",
        "kamatna_stopa=0.06\n",
        "for i in range(9): # ponovi devet puta\n",
        "  kamata=pocetna_suma*kamatna_stopa # izračunaj kamatu\n",
        "  pocetna_suma=pocetna_suma+kamata # pridruži kamatu glavnici\n",
        "print(pocetna_suma)  "
      ],
      "metadata": {
        "id": "PHMduG764HFU"
      },
      "execution_count": null,
      "outputs": []
    },
    {
      "cell_type": "markdown",
      "source": [
        "Zadatak 4. Napiši program koji od korisnika zahteva unos pocetne sume, kamatne stope i broja perioda a zatim ispisuje uvecanu vrednot glavnice. ( Upustvo: Koristi prethodni primer i priseti se kako se prihvataju podaci sa ulaza (Lekcija 1))"
      ],
      "metadata": {
        "id": "DI2Jb4aw5bVx"
      }
    },
    {
      "cell_type": "code",
      "source": [
        ""
      ],
      "metadata": {
        "id": "fgSti9wR6IAj"
      },
      "execution_count": null,
      "outputs": []
    },
    {
      "cell_type": "markdown",
      "source": [
        "**Petlja while**"
      ],
      "metadata": {
        "id": "oUtob3Od6ioc"
      }
    },
    {
      "cell_type": "markdown",
      "source": [
        "Petlja while se koristi za ponavljanje neke aktivnosti sve dok je uslov predviđen tom petljom zadovoljen.Pogledajmo sledeći primer."
      ],
      "metadata": {
        "id": "hsGpfWYY7nHm"
      }
    },
    {
      "cell_type": "markdown",
      "source": [
        "Primer 6. Napiši program koji inicijalizuje stanje na računu na 100000 a zatim odobrava isplate sve dok suma isplata ne prekorači limit.Potrebno je sabrati sve isplate i ispisti tu vrednost a korisniku dati poruku koliko je prekoračio limit."
      ],
      "metadata": {
        "id": "9wzUbCao7_Ce"
      }
    },
    {
      "cell_type": "code",
      "source": [
        "stanje_na_racunu=100000\n",
        "suma = 0\n",
        "while suma <= stanje_na_racunu:\n",
        "    isplata = int(input(\"Unesite vrednost sume koju želite da podigneta kao ceo broj\"))\n",
        "    suma = suma + isplata\n",
        "print(\"Sa računa ste podigli \", suma)\n",
        "print(\"Prekoračili ste limit za \", suma-stanje_na_racunu)"
      ],
      "metadata": {
        "id": "47OWFm689M9t"
      },
      "execution_count": null,
      "outputs": []
    }
  ]
}