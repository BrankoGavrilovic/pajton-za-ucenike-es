{
  "nbformat": 4,
  "nbformat_minor": 0,
  "metadata": {
    "colab": {
      "name": "Linearna regrsija-Python",
      "provenance": [],
      "collapsed_sections": [],
      "authorship_tag": "ABX9TyOhxvUVGGFDcZ2kP0wU5XrT",
      "include_colab_link": true
    },
    "kernelspec": {
      "name": "python3",
      "display_name": "Python 3"
    },
    "language_info": {
      "name": "python"
    }
  },
  "cells": [
    {
      "cell_type": "markdown",
      "metadata": {
        "id": "view-in-github",
        "colab_type": "text"
      },
      "source": [
        "<a href=\"https://colab.research.google.com/github/BrankoGavrilovic/pajton-za-ucenike-es/blob/main/Linearna_regrsija_Python.ipynb\" target=\"_parent\"><img src=\"https://colab.research.google.com/assets/colab-badge.svg\" alt=\"Open In Colab\"/></a>"
      ]
    },
    {
      "cell_type": "markdown",
      "source": [
        "U jednoj od prethodnih lekcija naučili smo da crtamo grafik linearne funkcije ukoliko imamo formulu koja odgovara linearnoj funkciji.U ovoj lekciji krenućemo od podataka a zatim ćemo probati da nađemo linearnu funkciju koja opisuje te podatke. Za početak ćemo naći funkciju koja u potpunosti odgovara datim podacima.Pogledajmo sledeći primer."
      ],
      "metadata": {
        "id": "n6SHYZqJXLbt"
      }
    },
    {
      "cell_type": "markdown",
      "source": [
        "rimer 1.Predstavi podatke x=[1,2,3,4,5] i y=[3,5,7,9,11] tačkastim dijagramom."
      ],
      "metadata": {
        "id": "nMz1ythWYEhO"
      }
    },
    {
      "cell_type": "code",
      "source": [
        "import matplotlib.pyplot as plt\n",
        "x=[1,2,3,4,5]\n",
        "y=[3,5,7,9,11]\n",
        "plt.scatter(x,y)\n",
        "plt.show()"
      ],
      "metadata": {
        "colab": {
          "base_uri": "https://localhost:8080/",
          "height": 265
        },
        "id": "AtLSYWrfGXH5",
        "outputId": "edeef974-4e06-4bb2-9bca-635ebeeb94be"
      },
      "execution_count": null,
      "outputs": [
        {
          "output_type": "display_data",
          "data": {
            "text/plain": [
              "<Figure size 432x288 with 1 Axes>"
            ],
            "image/png": "[encoded data removed]"
          },
          "metadata": {
            "needs_background": "light"
          }
        }
      ]
    },
    {
      "cell_type": "markdown",
      "source": [
        "Uočavamo na prethodnom primeru da zadate tačke potencijalno leže na jednoj pravoj liniji. Na osnovu opažanja probajmo da nađemo funkciju koja opisuje date podatke. Da bi to učinili neophodna nam je funkcija polyfit(x,y,stepen polinoma) iz biblioteke numpy koju moramo na samom početku ubaciti.Napomena: Pošto se traži linearna funkcija za stepen polinoma uvek ćemo staviti 1. Pogledajmo primer."
      ],
      "metadata": {
        "id": "Z-OVjejlYm8t"
      }
    },
    {
      "cell_type": "code",
      "execution_count": null,
      "metadata": {
        "id": "dzPfi3IyBMSP",
        "colab": {
          "base_uri": "https://localhost:8080/"
        },
        "outputId": "3c368790-9eb9-4c84-9e01-322afbb87537"
      },
      "outputs": [
        {
          "output_type": "stream",
          "name": "stdout",
          "text": [
            "Linearna funkcija koja najbolje opisuje dati model je y= 2.0 x +  1.0\n"
          ]
        }
      ],
      "source": [
        "import numpy as np # prvo učitavamo biblioteku numpy\n",
        "x=[1,2,3,4,5]# definišemo listu x\n",
        "y=[3,5,7,9,11]#definišemo listu y\n",
        "[a,b]=np.polyfit(x,y,1) # pozivamo funkciju polyfit koja nam vraća koeficijente a i b linearne funkcije y=ax+b koja opisuje podatke\n",
        "k=round(a,2)# zaokružujemo broj a na dve decimale i dodeljujemo ga koeficijentu pravca - k\n",
        "n=round(b,2)# zaokružujemo broj b na dve decimale i dodeljujemo odsečku na y osi - n\n",
        "print(\"Linearna funkcija koja najbolje opisuje dati model je y=\",k,\"x + \", n) # ispisujemo funkciju"
      ]
    },
    {
      "cell_type": "markdown",
      "source": [
        "Sada možemo predstaviti podatke grafički. Na tačkasti dijagram iz primera 1 dodaćemo pravu koja će biti određena sa prvom tačkom koja ima koordinate (0,n) i krajnjom tačkom koja  ima koordinaate (poslednji broj u x,k*(poslednji broj u x)+1) u ovom slučaju (5,k*5+1)"
      ],
      "metadata": {
        "id": "NKtQKfr6awSA"
      }
    },
    {
      "cell_type": "code",
      "source": [
        "import matplotlib.pyplot as plt\n",
        "import numpy as np\n",
        "x=[1,2,3,4,5]\n",
        "y=[3,5,7,9,11]\n",
        "[a,b]=np.polyfit(x,y,1)\n",
        "k=round(a,2)\n",
        "n=round(b,2)\n",
        "plt.scatter(x,y) # nacrtaj tačkasti dijagram\n",
        "plt.plot([0,5],[1,k*5+n]) # nacrtaj pravu\n",
        "plt.show()\n",
        "print(\"Linearna funkcija koja najbolje opisuje dati model je y=\",k,\"x + \", n)"
      ],
      "metadata": {
        "colab": {
          "base_uri": "https://localhost:8080/",
          "height": 283
        },
        "id": "X71--IhCHhen",
        "outputId": "e364e9d5-8816-4284-d630-a6275a8c8354"
      },
      "execution_count": null,
      "outputs": [
        {
          "output_type": "display_data",
          "data": {
            "text/plain": [
              "<Figure size 432x288 with 1 Axes>"
            ],
            "image/png": "[encoded data removed]"
          },
          "metadata": {
            "needs_background": "light"
          }
        },
        {
          "output_type": "stream",
          "name": "stdout",
          "text": [
            "Linearna funkcija koja najbolje opisuje dati model je y= 2.0 x +  1.0\n"
          ]
        }
      ]
    },
    {
      "cell_type": "markdown",
      "source": [
        "**Linearna regresija**\n",
        "U statistici linearna regresija je pronalaženje odgovarajuće prave koja približno opisuje model podataka bez potpunog poklapanja.Pogledajmo sledeći primer."
      ],
      "metadata": {
        "id": "p_oeQ1lFcEH4"
      }
    },
    {
      "cell_type": "code",
      "source": [
        "import matplotlib.pyplot as plt\n",
        "sati=[1,2,3,4,5,6,7,9,12]\n",
        "bodovi=[1,8,10,18,25,33,37,48,55]\n",
        "plt.scatter(sati,bodovi)\n",
        "plt.show()"
      ],
      "metadata": {
        "colab": {
          "base_uri": "https://localhost:8080/",
          "height": 265
        },
        "id": "NGLTL_zsnN5f",
        "outputId": "b7833d9c-4d5c-4efa-f2d6-133992c29bb8"
      },
      "execution_count": 16,
      "outputs": [
        {
          "output_type": "display_data",
          "data": {
            "text/plain": [
              "<Figure size 432x288 with 1 Axes>"
            ],
            "image/png": "[encoded data removed]"
          },
          "metadata": {
            "needs_background": "light"
          }
        }
      ]
    },
    {
      "cell_type": "markdown",
      "source": [
        "Vidimo da podaci ne leže na jednoj pravoj, ali možemo pronaći pravu koja najbolje  opsuje podatke.Taj proces naziva se regresija. Pogledajmo sledeći primer"
      ],
      "metadata": {
        "id": "XWatPQrionei"
      }
    },
    {
      "cell_type": "code",
      "source": [
        "import matplotlib.pyplot as plt\n",
        "import numpy as np\n",
        "sati=[1,2,3,4,5,6,7,9,12]\n",
        "bodovi=[1,8,10,18,25,33,37,48,55]\n",
        "[a,b]=np.polyfit(sati,bodovi,1)\n",
        "plt.scatter(sati,bodovi) # nacrtaj tačkasti dijagram\n",
        "plt.plot([0,12],[b,a*12+b]) # nacrtaj pravu\n",
        "plt.show()"
      ],
      "metadata": {
        "colab": {
          "base_uri": "https://localhost:8080/",
          "height": 265
        },
        "id": "9C0Ip6P9o_7l",
        "outputId": "79632127-df1a-449f-a2c0-2ea98f935cfb"
      },
      "execution_count": 18,
      "outputs": [
        {
          "output_type": "display_data",
          "data": {
            "text/plain": [
              "<Figure size 432x288 with 1 Axes>"
            ],
            "image/png": "[encoded data removed]"
          },
          "metadata": {
            "needs_background": "light"
          }
        }
      ]
    },
    {
      "cell_type": "markdown",
      "source": [
        "**Predviđanja-Predikcija**"
      ],
      "metadata": {
        "id": "cTSOTUYeyM30"
      }
    },
    {
      "cell_type": "markdown",
      "source": [
        "Na osnovu konstruisane funkcije možemo predvideti rezultat za konkretnu vrednost.Recimo u ovom našem slučaju želimo predvideti koliko bi bodova imali da smo učili 16 sati.Pogledajmo primer."
      ],
      "metadata": {
        "id": "BXhuivmOyURN"
      }
    },
    {
      "cell_type": "code",
      "source": [
        "import matplotlib.pyplot as plt\n",
        "import numpy as np\n",
        "sati=[1,2,3,4,5,6,7,9,12]\n",
        "bodovi=[1,8,10,18,25,33,37,48,55]\n",
        "[a,b]=np.polyfit(sati,bodovi,1)\n",
        "print(\"Da smo učili 16 sati imali bi \",a*16+b,\"bodova\")# ispisujemo rezultat predviđanja po formuli predviđanje=a*sati_vežbe+b\n",
        "plt.scatter(sati,bodovi) \n",
        "plt.plot([0,12],[b,a*12+b]) \n",
        "plt.show()"
      ],
      "metadata": {
        "colab": {
          "base_uri": "https://localhost:8080/",
          "height": 283
        },
        "id": "pa27wxVnysva",
        "outputId": "1b568601-5765-4363-89f1-e3f28841a9bf"
      },
      "execution_count": 26,
      "outputs": [
        {
          "output_type": "stream",
          "name": "stdout",
          "text": [
            "Da smo učili 16 sati imali bi  81.30090497737557 bodova\n"
          ]
        },
        {
          "output_type": "display_data",
          "data": {
            "text/plain": [
              "<Figure size 432x288 with 1 Axes>"
            ],
            "image/png": "[encoded data removed]"
          },
          "metadata": {
            "needs_background": "light"
          }
        }
      ]
    },
    {
      "cell_type": "markdown",
      "source": [
        "Sada možemo i ucrtati tačku na grafiku korišćenjem scatter funkcije.Pogledajmo primer."
      ],
      "metadata": {
        "id": "V3o-sBby0BmO"
      }
    },
    {
      "cell_type": "code",
      "source": [
        "import matplotlib.pyplot as plt\n",
        "import numpy as np\n",
        "sati=[1,2,3,4,5,6,7,9,12]\n",
        "bodovi=[1,8,10,18,25,33,37,48,55]\n",
        "[a,b]=np.polyfit(sati,bodovi,1)\n",
        "print(\"Da smo učili 16 sati imali bi \",a*16+b,\"bodova\")# ispisujemo rezultat predviđanja po formuli predviđanje=a*sati_vežbe+b\n",
        "plt.scatter(sati,bodovi) \n",
        "plt.plot([0,12],[b,a*12+b]) \n",
        "plt.scatter(16,a*16+b, color=\"red\")# ucrtavamo tačku sa koordinatama (16, predviđanje za 16 ) i bojimo crveno\n",
        "plt.show()"
      ],
      "metadata": {
        "colab": {
          "base_uri": "https://localhost:8080/",
          "height": 283
        },
        "id": "iQNSK8ni0Tjg",
        "outputId": "5b0947ad-4f59-44f3-e9c9-20482624e6e9"
      },
      "execution_count": 28,
      "outputs": [
        {
          "output_type": "stream",
          "name": "stdout",
          "text": [
            "Da smo učili 16 sati imali bi  81.30090497737557 bodova\n"
          ]
        },
        {
          "output_type": "display_data",
          "data": {
            "text/plain": [
              "<Figure size 432x288 with 1 Axes>"
            ],
            "image/png": "[encoded data removed]"
          },
          "metadata": {
            "needs_background": "light"
          }
        }
      ]
    },
    {
      "cell_type": "markdown",
      "source": [
        "**Tačnost modela**"
      ],
      "metadata": {
        "id": "tJ4OcrnbyD39"
      }
    },
    {
      "cell_type": "markdown",
      "source": [
        "Da bi videli kolika je tačnost modela koristimo koeficijent determinacije R2. Vrednosti za R2 se kreću od nula do jedan i  što je on bliži jedan to je funkcija tačnija. Možemo reći da sve preko 0,75 je dobar model. Da bi odredili R2 koristimo  funkciju r2_score koja se nalazi u biblioteci sklearn.metric . Pre upotrebe moramo konvertovati podatke u numeričke nizove opcijom np.array([lista])Pogleajmo primer.\n",
        "\n"
      ],
      "metadata": {
        "id": "Z93d2JbxtSd9"
      }
    },
    {
      "cell_type": "code",
      "source": [
        "from sklearn.metrics import r2_score \n",
        "import numpy as np\n",
        "sati=np.array([1,2,3,4,5,6,7,9,12])# da bi funkcija r2_score radila potrebno konvertovati podatke u niz\n",
        "bodovi=np.array([1,8,10,18,25,33,37,48,55])# da bi funkcija r2_score radila potrebno konvertovati podatke u niz\n",
        "[a,b]=np.polyfit(sati,bodovi,1)\n",
        "r2_score(bodovi, a*sati+b) # testirajmo model funkcijom r2_score.Prvi parametar je vrednost y ( u ovomslučaju bodovi)\n",
        "                            # a drugi funkcija koja modeluje pdatke (a*x+b) za dato x ( u ovom slučaju a*sati+b)\n"
      ],
      "metadata": {
        "id": "z7kH4ysduAgB"
      },
      "execution_count": null,
      "outputs": []
    },
    {
      "cell_type": "markdown",
      "source": [
        "Vidimmo da je model poprilično tačan"
      ],
      "metadata": {
        "id": "z-j947Bpwtq0"
      }
    },
    {
      "cell_type": "markdown",
      "source": [
        "Zadatak 1. Napravi linearnu regresiju za sledeće nizove cena=[12,11,10,8,6], traznja=[15,17,20,26,30] i predstavi grafikom. Proceni tražnju za cena=5"
      ],
      "metadata": {
        "id": "5LCw8HFy090W"
      }
    },
    {
      "cell_type": "code",
      "source": [
        ""
      ],
      "metadata": {
        "id": "U5QzRFhK1m0v"
      },
      "execution_count": null,
      "outputs": []
    }
  ]
}