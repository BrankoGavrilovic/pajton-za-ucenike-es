{
  "nbformat": 4,
  "nbformat_minor": 0,
  "metadata": {
    "colab": {
      "name": "Lekcija 3- Funkcije i liste",
      "provenance": [],
      "authorship_tag": "ABX9TyMfd/inJ8w4bZK3M60OgBiw",
      "include_colab_link": true
    },
    "kernelspec": {
      "name": "python3",
      "display_name": "Python 3"
    },
    "language_info": {
      "name": "python"
    }
  },
  "cells": [
    {
      "cell_type": "markdown",
      "metadata": {
        "id": "view-in-github",
        "colab_type": "text"
      },
      "source": [
        "<a href=\"https://colab.research.google.com/github/BrankoGavrilovic/pajton-za-ucenike-es/blob/main/Lekcija_3_Funkcije_i_liste.ipynb\" target=\"_parent\"><img src=\"https://colab.research.google.com/assets/colab-badge.svg\" alt=\"Open In Colab\"/></a>"
      ]
    },
    {
      "cell_type": "markdown",
      "source": [
        "U ovoj lekciji ćemo naučiti šta su funkcije, kako ih definišemo i  kako ih pozivamo. Prvo ćemo naučiti korisnički definisane funkcije a potom ćemo pokazati korišćenje bibliotečkih funkcija. Nakon toga naučićemo šta je to lista i kako manipulišemo podacima u listi."
      ],
      "metadata": {
        "id": "ruueDSn0FVkp"
      }
    },
    {
      "cell_type": "markdown",
      "source": [
        "**Funkcije**"
      ],
      "metadata": {
        "id": "obEBlhvyF7us"
      }
    },
    {
      "cell_type": "markdown",
      "source": [
        "Funkcju definišemo na sledeći način def *ime funkcije*(*lista parametara opciono*): naredba . Ukoliko funkcija treba da vrati neki rezultat u okiru naredbi koristimo opciju **return** *ono što funkciija vraća*"
      ],
      "metadata": {
        "id": "rqbCCd0MGMmH"
      }
    },
    {
      "cell_type": "markdown",
      "source": [
        "Pogledajmo sledeći primer - **račun uloga**"
      ],
      "metadata": {
        "id": "fBzuVFjiGyiV"
      }
    },
    {
      "cell_type": "markdown",
      "source": [
        "Primer 1. Napiši funkciju koja za izračunava sumu svih uloga koje neko ulaže n put početkom obračunskog perioda i uz kamatnu stopu p. Funkcija kao argumente prihvata vrednost uloga, kamatnu stopu kao i broj perioda i vraća sumu svih uloga kao rezultat. ( Ovde ćemo koristiti formulu iz treće godine Sn=U*r*(r^n-1)/r-1 gde je U ulog n broj perioda a r=1+p"
      ],
      "metadata": {
        "id": "JgBste49G-ig"
      }
    },
    {
      "cell_type": "code",
      "execution_count": null,
      "metadata": {
        "id": "gdlsqtudFOpO"
      },
      "outputs": [],
      "source": [
        "def zbir_uloga(ulog,stopa,period): # definišemo funkciju koja nosi naziv zbir_uloga i prihvata kao parametre visinu uloga ,stopu i broj perioda\n",
        "  r=1+stopa # racunamo r NAPOMENA: Stopu uneti kao decimalni broj,recimo 5% unosimo kao 0,05\n",
        "  return ulog*r*(r**period -1)/(r-1) # vraćamo rezultat formule\n",
        "# Za testiranje funkcije koristimo zadatak iz zbirke.\n",
        "# Neko ulaže 9 godina uz 12% (pa)d po 8000 dinara svake godine uz godišnje kapitalisanje.Izračunaj zbir svih uloga\n",
        "zbir_uloga(8000,0.12,9) # dovoljno pozvati funkciju nazivom funkcije i prosleđivanjem konkretnih vrednosti"
      ]
    },
    {
      "cell_type": "markdown",
      "source": [
        "Primer 2 - **račun rente**"
      ],
      "metadata": {
        "id": "5SVpIu38N4bL"
      }
    },
    {
      "cell_type": "markdown",
      "source": [
        "Napiši funkciju koja izračuna visinu rente koju neko treba da isplati tokom n perioda uz kamatnu stopu p i kapitalisanje koje odgovara periodu isplate. Da se prisetimo formule U= So*r^n*(r-1)/r^n-1 gde je So suma na osnovu koje se određuje renta "
      ],
      "metadata": {
        "id": "YnPCOharOKnj"
      }
    },
    {
      "cell_type": "code",
      "source": [
        "def renta(suma_na_osnovu_koje_se_odredjuje_renta,broj_perioda,stopa):\n",
        "  s=suma_na_osnovu_koje_se_odredjuje_renta# preimenujemo promenjive zbog lakšeg rada\n",
        "  n=broj_perioda\n",
        "  r=1+stopa\n",
        "  return s*r**n*(r-1)/(r**n-1)#vrati rezultat\n",
        "# Funkciju testiramo na primeru iz zbirke. \n",
        "#Danas je uplaćeno 250000 dinara uz 7,5% (pa)d i godišnje kapitalisanje na osnovu koga će banka isplaćivati krajem svake godine isti iznos u \n",
        "#periodu od 15 godina.Izračunaj taj iznos.(rentu)\n",
        "renta(250000,15,0.075)  # testiraj na zadatku \n"
      ],
      "metadata": {
        "id": "YrFxh5LmOvEN"
      },
      "execution_count": null,
      "outputs": []
    },
    {
      "cell_type": "markdown",
      "source": [
        "Zadatak 1. Napiši funkciju koja izračunava iznos rate kredita na osnovu vrednosti kredita ,kamatne stope i broja perioda.Dopuni kod. Formula koju koristimo je a=K*r^n*(r-1)/(r^n-1)"
      ],
      "metadata": {
        "id": "ne5LqukNVw-v"
      }
    },
    {
      "cell_type": "code",
      "source": [
        "def anuitet (kredit,broj_perioda,stopa):\n",
        "  K=kredit# preimenujemo promenjive zbog lakšeg rada\n",
        "  n=broj_perioda\n",
        "  r=1+stopa\n",
        "  #dopuni kod\n",
        "# dopuni kod td. pozovemo funkciju koja izračunava anuitet za zajam od 600000 na 24 godišnje rate i kamatnu stopu 8%(pa)d."
      ],
      "metadata": {
        "id": "W---pAopW80p"
      },
      "execution_count": null,
      "outputs": []
    },
    {
      "cell_type": "markdown",
      "source": [
        "**Ugradjene funkcije**"
      ],
      "metadata": {
        "id": "Rnz-JRwdYJZM"
      }
    },
    {
      "cell_type": "markdown",
      "source": [
        "Programski jezik pajton bogat je bibliotekama koje u sebi imaju gotove funkcije koje se mogu koristiti umesto kodiranja.Sledi nekoliko primera."
      ],
      "metadata": {
        "id": "Ti6qvhpqYWOk"
      }
    },
    {
      "cell_type": "markdown",
      "source": [
        "Primer 1. Izračunaj koren iz 49"
      ],
      "metadata": {
        "id": "fJ0L3KqsYqlV"
      }
    },
    {
      "cell_type": "code",
      "source": [
        "# u Pajtonu funkcija koja izračunava  koren je sqrt( broj).Međutim ukoliko se prethodno ne uveze biblioteka math koja \n",
        "# sadrži funkciju koren pojaviće se greška.Probaj sledeći kod \n",
        "sqrt(49)"
      ],
      "metadata": {
        "id": "DLPLPtKrY0k7"
      },
      "execution_count": null,
      "outputs": []
    },
    {
      "cell_type": "code",
      "source": [
        "# biblioteku uvozimo naredbom import naziv_biblioteke\n",
        "import math # uvezi biblioteku math\n",
        "math.sqrt(49) # pozovi funkciju sqrt iz biblioteke math"
      ],
      "metadata": {
        "id": "7FN5zJ4EaPpi"
      },
      "execution_count": null,
      "outputs": []
    },
    {
      "cell_type": "markdown",
      "source": [
        "**Rad sa vremenom**"
      ],
      "metadata": {
        "id": "XXQ9bZ9Daxej"
      }
    },
    {
      "cell_type": "markdown",
      "source": [
        "Funkcije za obradu vremena nalaze se u biblioteci datetime. Vreme je važna komponenta u ekonomiji pa stoga dajemo sledeći koristan primer."
      ],
      "metadata": {
        "id": "KvXJW7JKa20i"
      }
    },
    {
      "cell_type": "markdown",
      "source": [
        "Primer. Napiši program koji izračunava broj dana između dva datuma."
      ],
      "metadata": {
        "id": "vFmIiM8vbu9w"
      }
    },
    {
      "cell_type": "code",
      "source": [
        "from datetime import date # importuj biblioteku date \n",
        "prvi_datum = date(2020, 7, 2) \n",
        "drugi_datum = date(2020, 7, 23)\n",
        "delta = drugi_datum - prvi_datum # racuna razliku između dva datuma\n",
        "print(delta.days) # štamampa vreme pretvoreno u dane"
      ],
      "metadata": {
        "id": "DhRjY5a_bCU6"
      },
      "execution_count": null,
      "outputs": []
    },
    {
      "cell_type": "markdown",
      "source": [
        "**Liste**"
      ],
      "metadata": {
        "id": "DZ1CPhv0c9u_"
      }
    },
    {
      "cell_type": "markdown",
      "source": [
        "Liste su važne strukture u pajtonu koje se koriste za čuvanje podataka.Liste se definišu na sledeći način *naziv_liste=[elementi liste odvojene zapetom]*. Pogledajmo sledeći primer liste u kojoj su ocene."
      ],
      "metadata": {
        "id": "wyz1nZ9BdA4D"
      }
    },
    {
      "cell_type": "code",
      "source": [
        "ocene=[2,4,5,3,4]\n",
        "#navo]enjem naziva liste ispisuju se članovi\n",
        "ocene"
      ],
      "metadata": {
        "id": "nlMKjUFLd33R"
      },
      "execution_count": null,
      "outputs": []
    },
    {
      "cell_type": "markdown",
      "source": [
        "Nad listama postoje brojne funkcije koje manipulišu podacima. NPR. Dodavanje u listu radimo funkcijom append(član koji dodajemo)"
      ],
      "metadata": {
        "id": "s1BQJDJpeUDf"
      }
    },
    {
      "cell_type": "code",
      "source": [
        "ocene.append(1)# dodaj spisku ocena ocenu 1\n",
        "ocene #ispiši"
      ],
      "metadata": {
        "id": "uSMnoAete0zQ"
      },
      "execution_count": null,
      "outputs": []
    },
    {
      "cell_type": "markdown",
      "source": [
        "Da bi pristupili nekom elementu liste navodimo naziv_liste=[redni broj člana]\n",
        "Napomenimo da redni brojevi idu od 0 do n-1. Tako da prvom članu pristupamo sa naziv_liste[0], drugom naziv_liste[1] itd..."
      ],
      "metadata": {
        "id": "_9geaDjQfJwE"
      }
    },
    {
      "cell_type": "code",
      "source": [
        "ocene [3] # ispisuje ;etvrtu ocenu u list [2.4.5.3.4]"
      ],
      "metadata": {
        "id": "fyoNGIdBf-yG"
      },
      "execution_count": null,
      "outputs": []
    },
    {
      "cell_type": "markdown",
      "source": [
        "Funkcije koje koristimo za manipulaciju podacima date su sledećim primerom"
      ],
      "metadata": {
        "id": "EOzSeRbRgTjN"
      }
    },
    {
      "cell_type": "code",
      "source": [
        "print(max(ocene))# ispisuje najveći član niza ocene\n",
        "print(min(ocene))# ispisuje minimalni član niza ocene\n",
        "print(len(ocene))#ispisuje broj članova niza ocene\n",
        "print(sum(ocene))#ispisuje sumu svih članova niza ocene"
      ],
      "metadata": {
        "id": "qIY_5DRfgvkH"
      },
      "execution_count": null,
      "outputs": []
    }
  ]
}