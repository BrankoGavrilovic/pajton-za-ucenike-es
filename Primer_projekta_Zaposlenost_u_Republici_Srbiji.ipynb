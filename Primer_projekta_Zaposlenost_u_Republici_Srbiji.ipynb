{
  "nbformat": 4,
  "nbformat_minor": 0,
  "metadata": {
    "colab": {
      "name": "Primer projekta-Zaposlenost u Republici Srbiji",
      "provenance": [],
      "collapsed_sections": [],
      "authorship_tag": "ABX9TyPSv9RZmMIQcUctvFE2C5D0",
      "include_colab_link": true
    },
    "kernelspec": {
      "name": "python3",
      "display_name": "Python 3"
    },
    "language_info": {
      "name": "python"
    }
  },
  "cells": [
    {
      "cell_type": "markdown",
      "metadata": {
        "id": "view-in-github",
        "colab_type": "text"
      },
      "source": [
        "<a href=\"https://colab.research.google.com/github/BrankoGavrilovic/pajton-za-ucenike-es/blob/main/Primer_projekta_Zaposlenost_u_Republici_Srbiji.ipynb\" target=\"_parent\"><img src=\"https://colab.research.google.com/assets/colab-badge.svg\" alt=\"Open In Colab\"/></a>"
      ]
    },
    {
      "cell_type": "markdown",
      "source": [
        "**Uputstvo za izradu rada**\n",
        "\n",
        "\n",
        "1.   Naslov\n",
        "2.   Uvodni podaci\n",
        "3.   Podaci predstavljeni najmanje na tri načina ( tačkasti dijagram, stubići,linijski dijagram,pitice)\n",
        "4.   Dve vrste podataka predstavljene na dva uporedna grafikona.*italicized text*\n",
        "5.   Regresiona prava\n",
        "\n",
        "Literatura: Internet- relevantni sajtovi (zavod za statistiku i slično)\n",
        "Teme: Tema je po izboru, uz uslov da objašnjavaju ekonomske, ekološke i slične probleme.\n",
        "\n"
      ],
      "metadata": {
        "id": "-ItxLY3ijTA7"
      }
    },
    {
      "cell_type": "markdown",
      "source": [
        "**Zaposlenost u Republici Srbiji**"
      ],
      "metadata": {
        "id": "ymF3Qy_ft2j3"
      }
    },
    {
      "cell_type": "markdown",
      "source": [
        " U periodu od 2018. do 2021. registrovan je slede'i trend zaposlenosti:\n",
        "( izvor: https://data.stat.gov.rs/Home/Result/24021101?languageCode=sr-Cyrl) \n",
        "\n",
        "\n",
        "\n",
        "    godina   broj zaposlenih\n",
        "1.   2018        2131079\n",
        "2.   2019        2173135\n",
        "3.   2020        2215475\n",
        "4.   2021        2273591\n",
        "\n",
        "Sledeći grafikon predstavlja broj zaposlenih od 2018. do 2021.\n",
        "\n",
        "  "
      ],
      "metadata": {
        "id": "609WP2BmYpRw"
      }
    },
    {
      "cell_type": "code",
      "source": [
        "import matplotlib.pyplot as plt\n",
        "from statistics import mean\n",
        "godina=[\"2018\",\"2019\",\"2020\",\"2021\"]\n",
        "broj_zaposlenih=[2131079,2173135, 2215475,2273591]\n",
        "\n",
        "plt.scatter(godina,broj_zaposlenih)\n",
        "plt.title(\"Pregled zaposlenosti po godinama\")\n"
      ],
      "metadata": {
        "colab": {
          "base_uri": "https://localhost:8080/",
          "height": 298
        },
        "id": "ZdIQr2XJZUm3",
        "outputId": "de8b46e6-c416-41ee-b162-7e99dc537978"
      },
      "execution_count": null,
      "outputs": [
        {
          "output_type": "execute_result",
          "data": {
            "text/plain": [
              "Text(0.5, 1.0, 'Pregled zaposlenosti po godinama')"
            ]
          },
          "metadata": {},
          "execution_count": 2
        },
        {
          "output_type": "display_data",
          "data": {
            "text/plain": [
              "<Figure size 432x288 with 1 Axes>"
            ],
            "image/png": "[encoded data removed]"
          },
          "metadata": {
            "needs_background": "light"
          }
        }
      ]
    },
    {
      "cell_type": "markdown",
      "source": [
        "Na osnovu grafikona vidimo povećanje broja zaposlenih......"
      ],
      "metadata": {
        "id": "Fh2UKq-lZhaX"
      }
    },
    {
      "cell_type": "code",
      "source": [
        "import matplotlib.pyplot as plt\n",
        "from statistics import mean\n",
        "godina=[\"2018\",\"2019\",\"2020\",\"2021\"]\n",
        "zaposleni_pravnalica=[1688241,\t1723828, \t1764127,1816714]\n",
        "preduzetnici=[364305,\t377439,384972,395917]\n",
        "#plot1\n",
        "\n",
        "plt.subplot(1,2,1)\n",
        "plt.bar(godina,zaposleni_pravnalica)\n",
        "plt.title(\"Zaposleni- Javni sektor\")\n",
        "#plot2\n",
        "plt.subplot(1,2,2)\n",
        "\n",
        "plt.plot(godina,preduzetnici)\n",
        "plt.title(\"Zaposlenost-preduzetnici \")\n",
        "#plt.legend()\n",
        "plt.show()"
      ],
      "metadata": {
        "colab": {
          "base_uri": "https://localhost:8080/",
          "height": 281
        },
        "id": "hCcqccKmw6A2",
        "outputId": "4b4c9649-fc1f-430d-ff7a-70e2d32ba7f4"
      },
      "execution_count": null,
      "outputs": [
        {
          "output_type": "display_data",
          "data": {
            "text/plain": [
              "<Figure size 432x288 with 2 Axes>"
            ],
            "image/png": "[encoded data removed]"
          },
          "metadata": {
            "needs_background": "light"
          }
        }
      ]
    },
    {
      "cell_type": "markdown",
      "source": [
        "Prosečan broj zaposlenih u periodu od 2018 do 2021"
      ],
      "metadata": {
        "id": "v-4BhJa7yrs1"
      }
    },
    {
      "cell_type": "code",
      "source": [
        "import matplotlib.pyplot as plt\n",
        "from statistics import mean\n",
        "godina=[\"2018\",\"2019\",\"2020\",\"2021\"]\n",
        "broj_zaposlenih=[2131079,2173135, 2215475,2273591]\n",
        "prosek=mean(broj_zaposlenih)\n",
        "plt.bar(godina,broj_zaposlenih)\n",
        "plt.plot(godina,4*[prosek],color=\"red\",label=\"prosek\")\n",
        "plt.title(\"Pregled zaposlenosti po godinama\")\n",
        "plt.legend()\n",
        "\n",
        "print(\"Prosečan broj zaposlenih u javnom sektoru od 2018. do 2021 je\",prosek)\n"
      ],
      "metadata": {
        "colab": {
          "base_uri": "https://localhost:8080/",
          "height": 299
        },
        "id": "ugqtFGFHzYBo",
        "outputId": "af476968-02f1-4d97-f812-b8e5e5144a54"
      },
      "execution_count": null,
      "outputs": [
        {
          "output_type": "stream",
          "name": "stdout",
          "text": [
            "Prosečan broj zaposlenih u javnom sektoru od 2018. do 2021 je 2198320\n"
          ]
        },
        {
          "output_type": "display_data",
          "data": {
            "text/plain": [
              "<Figure size 432x288 with 1 Axes>"
            ],
            "image/png": "[encoded data removed]"
          },
          "metadata": {
            "needs_background": "light"
          }
        }
      ]
    },
    {
      "cell_type": "markdown",
      "source": [
        "Primećujemo trend rasta zaposlenosti. Napravimo projekciju za 2022."
      ],
      "metadata": {
        "id": "-bo28hqS7ZRy"
      }
    },
    {
      "cell_type": "code",
      "source": [
        "import matplotlib.pyplot as plt\n",
        "import numpy as np\n",
        "godina=[0,1,2,3]\n",
        "broj_zaposlenih=[2131079,2173135, 2215475,2273591]\n",
        "[a,b]=np.polyfit(godina,broj_zaposlenih,1)\n",
        "print(\"Projekcija za 2022 je \",a*4+b,\"zaposlenih\")\n",
        "#plt.scatter(godina,broj_zaposlenih) \n",
        "#plt.plot([0,12],[b,a*12+b]) \n",
        "#plt.scatter(16,a*16+b, color=\"red\")# ucrtavamo tačku sa koordinatama (16, predviđanje za 16 ) i bojimo crveno\n",
        "#plt.show()"
      ],
      "metadata": {
        "colab": {
          "base_uri": "https://localhost:8080/"
        },
        "id": "h415eW4O_hay",
        "outputId": "c9c2a5c1-55b0-49ac-da32-626be4067d1b"
      },
      "execution_count": 8,
      "outputs": [
        {
          "output_type": "stream",
          "name": "stdout",
          "text": [
            "Projekcija za 2022 je  2315789.000000001 zaposlenih\n"
          ]
        }
      ]
    }
  ]
}