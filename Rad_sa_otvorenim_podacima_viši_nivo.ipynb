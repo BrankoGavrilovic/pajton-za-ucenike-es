{
  "nbformat": 4,
  "nbformat_minor": 0,
  "metadata": {
    "colab": {
      "name": "Rad sa otvorenim podacima-viši nivo",
      "provenance": [],
      "authorship_tag": "ABX9TyOAFlU3wyjvfcHk1b9oMcpW",
      "include_colab_link": true
    },
    "kernelspec": {
      "name": "python3",
      "display_name": "Python 3"
    },
    "language_info": {
      "name": "python"
    }
  },
  "cells": [
    {
      "cell_type": "markdown",
      "metadata": {
        "id": "view-in-github",
        "colab_type": "text"
      },
      "source": [
        "<a href=\"https://colab.research.google.com/github/BrankoGavrilovic/pajton-za-ucenike-es/blob/main/Rad_sa_otvorenim_podacima_vi%C5%A1i_nivo.ipynb\" target=\"_parent\"><img src=\"https://colab.research.google.com/assets/colab-badge.svg\" alt=\"Open In Colab\"/></a>"
      ]
    },
    {
      "cell_type": "markdown",
      "source": [
        "**Učitavanje tabele sa WEB stranice**\n",
        "\n",
        "Biblioteka Pandas omogućava učitavanje tabele sa WEBa korišćenjem metoda read_html( http adresa strane). Ukoliko na stranici ima više tabela kao rezultat dobijamo niz tabela pa je potrebno navesti dodatni argument posle ve naredbe koji označava koja tabela se učitava.\n",
        "\n",
        "Sledeći primer sa stranice Wikipedia učitava prvu tabelu koja nam daje podatke o svetskim prvacima u fudbalu. Pošto je naša tabela prva u nizu na kraju naredbe smo upisali njen redni broj [0]."
      ],
      "metadata": {
        "id": "fo1dvjLLDl_W"
      }
    },
    {
      "cell_type": "code",
      "execution_count": null,
      "metadata": {
        "id": "Bx3LrGFoOrrY"
      },
      "outputs": [],
      "source": [
        "import pandas as pd\n",
        "tabela=pd.read_html(\"https://sr.m.wikipedia.org/sr-ec/%D0%A1%D0%BF%D0%B8%D1%81%D0%B0%D0%BA_%D0%BF%D1%80%D0%B2%D0%B0%D0%BA%D0%B0_%D0%A1%D0%B2%D0%B5%D1%82%D1%81%D0%BA%D0%BE%D0%B3_%D0%BF%D1%80%D0%B2%D0%B5%D0%BD%D1%81%D1%82%D0%B2%D0%B0_%D1%83_%D1%84%D1%83%D0%B4%D0%B1%D0%B0%D0%BB%D1%83\")[0]\n",
        "tabela"
      ]
    },
    {
      "cell_type": "markdown",
      "source": [
        "**Čitanje Excel tabele**\n",
        "\n",
        "Da bi pročitali tabelu zapisanu u Excelu koristimo metod read_excel(naziv fajla,opciono naziv lista). U sledećem primeru učitaćemo Excel tabelu sa linka \n",
        "\n",
        "\"https://github.com/BrankoGavrilovic/pajton-za-ucenike-es/blob/main/zemlje_sveta.xlsx?raw=true\"\n",
        "\n",
        "koja sadrži podatke o zemljema svet i  broju stanonika. Nakon učitavanja primenom čarobnjaka ili na neki drugi način možemo filtrirati podatke u nameri dalje obrade."
      ],
      "metadata": {
        "id": "MO47mf2j0L5n"
      }
    },
    {
      "cell_type": "code",
      "source": [
        "zemlje_sveta=pd.read_excel(\"https://github.com/BrankoGavrilovic/pajton-za-ucenike-es/blob/main/zemlje_sveta.xlsx?raw=true\")\n",
        "zemlje_sveta"
      ],
      "metadata": {
        "id": "UJnmj3e6MFHF",
        "colab": {
          "base_uri": "https://localhost:8080/",
          "height": 424
        },
        "outputId": "ae53f480-01eb-4b7b-e0cb-17973f55ccf6"
      },
      "execution_count": 5,
      "outputs": [
        {
          "output_type": "execute_result",
          "data": {
            "text/plain": [
              "                                                  Rank  \\\n",
              "0                                                  NaN   \n",
              "1                                                    0   \n",
              "2                                                    1   \n",
              "3                                                    2   \n",
              "4                                                    3   \n",
              "..                                                 ...   \n",
              "242                                                240   \n",
              "243                                                241   \n",
              "244                                                242   \n",
              "245                                                NaN   \n",
              "246  For more other formats visit www.downloadexcel...   \n",
              "\n",
              "        Country (or dependent territory)    Population              Date  \\\n",
              "0                                    NaN           NaN               NaN   \n",
              "1                                  World  7.135000e+09   January 4, 2014   \n",
              "2                                  China  1.362010e+09   January 4, 2014   \n",
              "3                                  India  1.238570e+09   January 4, 2014   \n",
              "4                          United States  3.174000e+08   January 4, 2014   \n",
              "..                                   ...           ...               ...   \n",
              "242                         Vatican City  8.000000e+02      July 1, 2012   \n",
              "243  Cocos (Keeling) Islands (Australia)  5.500000e+02    August 9, 2011   \n",
              "244                Pitcairn Islands (UK)  5.600000e+01  February 1, 2013   \n",
              "245                                  NaN           NaN               NaN   \n",
              "246                                  NaN           NaN               NaN   \n",
              "\n",
              "     % of world  \n",
              "0    population  \n",
              "1             1  \n",
              "2         0.191  \n",
              "3         0.174  \n",
              "4        0.0445  \n",
              "..          ...  \n",
              "242           0  \n",
              "243           0  \n",
              "244           0  \n",
              "245         NaN  \n",
              "246         NaN  \n",
              "\n",
              "[247 rows x 5 columns]"
            ],
            "text/html": [
              "\n",
              "  <div id=\"df-01091b7d-808a-4685-a464-ab8346fd200f\">\n",
              "    <div class=\"colab-df-container\">\n",
              "      <div>\n",
              "<style scoped>\n",
              "    .dataframe tbody tr th:only-of-type {\n",
              "        vertical-align: middle;\n",
              "    }\n",
              "\n",
              "    .dataframe tbody tr th {\n",
              "        vertical-align: top;\n",
              "    }\n",
              "\n",
              "    .dataframe thead th {\n",
              "        text-align: right;\n",
              "    }\n",
              "</style>\n",
              "<table border=\"1\" class=\"dataframe\">\n",
              "  <thead>\n",
              "    <tr style=\"text-align: right;\">\n",
              "      <th></th>\n",
              "      <th>Rank</th>\n",
              "      <th>Country (or dependent territory)</th>\n",
              "      <th>Population</th>\n",
              "      <th>Date</th>\n",
              "      <th>% of world</th>\n",
              "    </tr>\n",
              "  </thead>\n",
              "  <tbody>\n",
              "    <tr>\n",
              "      <th>0</th>\n",
              "      <td>NaN</td>\n",
              "      <td>NaN</td>\n",
              "      <td>NaN</td>\n",
              "      <td>NaN</td>\n",
              "      <td>population</td>\n",
              "    </tr>\n",
              "    <tr>\n",
              "      <th>1</th>\n",
              "      <td>0</td>\n",
              "      <td>World</td>\n",
              "      <td>7.135000e+09</td>\n",
              "      <td>January 4, 2014</td>\n",
              "      <td>1</td>\n",
              "    </tr>\n",
              "    <tr>\n",
              "      <th>2</th>\n",
              "      <td>1</td>\n",
              "      <td>China</td>\n",
              "      <td>1.362010e+09</td>\n",
              "      <td>January 4, 2014</td>\n",
              "      <td>0.191</td>\n",
              "    </tr>\n",
              "    <tr>\n",
              "      <th>3</th>\n",
              "      <td>2</td>\n",
              "      <td>India</td>\n",
              "      <td>1.238570e+09</td>\n",
              "      <td>January 4, 2014</td>\n",
              "      <td>0.174</td>\n",
              "    </tr>\n",
              "    <tr>\n",
              "      <th>4</th>\n",
              "      <td>3</td>\n",
              "      <td>United States</td>\n",
              "      <td>3.174000e+08</td>\n",
              "      <td>January 4, 2014</td>\n",
              "      <td>0.0445</td>\n",
              "    </tr>\n",
              "    <tr>\n",
              "      <th>...</th>\n",
              "      <td>...</td>\n",
              "      <td>...</td>\n",
              "      <td>...</td>\n",
              "      <td>...</td>\n",
              "      <td>...</td>\n",
              "    </tr>\n",
              "    <tr>\n",
              "      <th>242</th>\n",
              "      <td>240</td>\n",
              "      <td>Vatican City</td>\n",
              "      <td>8.000000e+02</td>\n",
              "      <td>July 1, 2012</td>\n",
              "      <td>0</td>\n",
              "    </tr>\n",
              "    <tr>\n",
              "      <th>243</th>\n",
              "      <td>241</td>\n",
              "      <td>Cocos (Keeling) Islands (Australia)</td>\n",
              "      <td>5.500000e+02</td>\n",
              "      <td>August 9, 2011</td>\n",
              "      <td>0</td>\n",
              "    </tr>\n",
              "    <tr>\n",
              "      <th>244</th>\n",
              "      <td>242</td>\n",
              "      <td>Pitcairn Islands (UK)</td>\n",
              "      <td>5.600000e+01</td>\n",
              "      <td>February 1, 2013</td>\n",
              "      <td>0</td>\n",
              "    </tr>\n",
              "    <tr>\n",
              "      <th>245</th>\n",
              "      <td>NaN</td>\n",
              "      <td>NaN</td>\n",
              "      <td>NaN</td>\n",
              "      <td>NaN</td>\n",
              "      <td>NaN</td>\n",
              "    </tr>\n",
              "    <tr>\n",
              "      <th>246</th>\n",
              "      <td>For more other formats visit www.downloadexcel...</td>\n",
              "      <td>NaN</td>\n",
              "      <td>NaN</td>\n",
              "      <td>NaN</td>\n",
              "      <td>NaN</td>\n",
              "    </tr>\n",
              "  </tbody>\n",
              "</table>\n",
              "<p>247 rows × 5 columns</p>\n",
              "</div>\n",
              "      <button class=\"colab-df-convert\" onclick=\"convertToInteractive('df-01091b7d-808a-4685-a464-ab8346fd200f')\"\n",
              "              title=\"Convert this dataframe to an interactive table.\"\n",
              "              style=\"display:none;\">\n",
              "        \n",
              "  <svg xmlns=\"http://www.w3.org/2000/svg\" height=\"24px\"viewBox=\"0 0 24 24\"\n",
              "       width=\"24px\">\n",
              "    <path d=\"M0 0h24v24H0V0z\" fill=\"none\"/>\n",
              "    <path d=\"M18.56 5.44l.94 2.06.94-2.06 2.06-.94-2.06-.94-.94-2.06-.94 2.06-2.06.94zm-11 1L8.5 8.5l.94-2.06 2.06-.94-2.06-.94L8.5 2.5l-.94 2.06-2.06.94zm10 10l.94 2.06.94-2.06 2.06-.94-2.06-.94-.94-2.06-.94 2.06-2.06.94z\"/><path d=\"M17.41 7.96l-1.37-1.37c-.4-.4-.92-.59-1.43-.59-.52 0-1.04.2-1.43.59L10.3 9.45l-7.72 7.72c-.78.78-.78 2.05 0 2.83L4 21.41c.39.39.9.59 1.41.59.51 0 1.02-.2 1.41-.59l7.78-7.78 2.81-2.81c.8-.78.8-2.07 0-2.86zM5.41 20L4 18.59l7.72-7.72 1.47 1.35L5.41 20z\"/>\n",
              "  </svg>\n",
              "      </button>\n",
              "      \n",
              "  <style>\n",
              "    .colab-df-container {\n",
              "      display:flex;\n",
              "      flex-wrap:wrap;\n",
              "      gap: 12px;\n",
              "    }\n",
              "\n",
              "    .colab-df-convert {\n",
              "      background-color: #E8F0FE;\n",
              "      border: none;\n",
              "      border-radius: 50%;\n",
              "      cursor: pointer;\n",
              "      display: none;\n",
              "      fill: #1967D2;\n",
              "      height: 32px;\n",
              "      padding: 0 0 0 0;\n",
              "      width: 32px;\n",
              "    }\n",
              "\n",
              "    .colab-df-convert:hover {\n",
              "      background-color: #E2EBFA;\n",
              "      box-shadow: 0px 1px 2px rgba(60, 64, 67, 0.3), 0px 1px 3px 1px rgba(60, 64, 67, 0.15);\n",
              "      fill: #174EA6;\n",
              "    }\n",
              "\n",
              "    [theme=dark] .colab-df-convert {\n",
              "      background-color: #3B4455;\n",
              "      fill: #D2E3FC;\n",
              "    }\n",
              "\n",
              "    [theme=dark] .colab-df-convert:hover {\n",
              "      background-color: #434B5C;\n",
              "      box-shadow: 0px 1px 3px 1px rgba(0, 0, 0, 0.15);\n",
              "      filter: drop-shadow(0px 1px 2px rgba(0, 0, 0, 0.3));\n",
              "      fill: #FFFFFF;\n",
              "    }\n",
              "  </style>\n",
              "\n",
              "      <script>\n",
              "        const buttonEl =\n",
              "          document.querySelector('#df-01091b7d-808a-4685-a464-ab8346fd200f button.colab-df-convert');\n",
              "        buttonEl.style.display =\n",
              "          google.colab.kernel.accessAllowed ? 'block' : 'none';\n",
              "\n",
              "        async function convertToInteractive(key) {\n",
              "          const element = document.querySelector('#df-01091b7d-808a-4685-a464-ab8346fd200f');\n",
              "          const dataTable =\n",
              "            await google.colab.kernel.invokeFunction('convertToInteractive',\n",
              "                                                     [key], {});\n",
              "          if (!dataTable) return;\n",
              "\n",
              "          const docLinkHtml = 'Like what you see? Visit the ' +\n",
              "            '<a target=\"_blank\" href=https://colab.research.google.com/notebooks/data_table.ipynb>data table notebook</a>'\n",
              "            + ' to learn more about interactive tables.';\n",
              "          element.innerHTML = '';\n",
              "          dataTable['output_type'] = 'display_data';\n",
              "          await google.colab.output.renderOutput(dataTable, element);\n",
              "          const docLink = document.createElement('div');\n",
              "          docLink.innerHTML = docLinkHtml;\n",
              "          element.appendChild(docLink);\n",
              "        }\n",
              "      </script>\n",
              "    </div>\n",
              "  </div>\n",
              "  "
            ]
          },
          "metadata": {},
          "execution_count": 5
        }
      ]
    },
    {
      "cell_type": "markdown",
      "source": [
        "**Učitavanje tabele u Excel**\n",
        "\n",
        "Ponekad je potrebno modifikovanu tabelu eksportovati u Excel. To radimo korišćenjem metoda to_excel(naziv.xls/s). Nakon izvršenja ove metode fajl se zapisuje u lokalni folder. U slučaju Colab okruženja fajl je zapisan na Google Drive-u i možemo ga videti i dalje preuzeti u Excelu klikom na ikonicu Files u traci sa desne strane radnog lista. U sledećem primeru napravićemo tabelu nova koja će sadržati samo nazive zemalja sveta. potom ćemo tabelu sačuvaati u Excel formatu na lokalnom disku. Pogledajmo primer."
      ],
      "metadata": {
        "id": "0IUxR9zax1xW"
      }
    },
    {
      "cell_type": "code",
      "source": [
        "nova=zemlje_sveta[\"Country (or dependent territory)\"]\n",
        "nova.to_excel(\"zemljesveta.xlsx\",index=False)"
      ],
      "metadata": {
        "id": "9zrbhcxeklu9"
      },
      "execution_count": 18,
      "outputs": []
    },
    {
      "cell_type": "code",
      "source": [
        "zemlje_sveta.columns"
      ],
      "metadata": {
        "colab": {
          "base_uri": "https://localhost:8080/"
        },
        "id": "KjITCM7tAYY3",
        "outputId": "82e1042a-fbf5-46da-9391-4ed988ace244"
      },
      "execution_count": 20,
      "outputs": [
        {
          "output_type": "execute_result",
          "data": {
            "text/plain": [
              "Index(['Rank', 'Country (or dependent territory)', 'Population', 'Date',\n",
              "       '% of world'],\n",
              "      dtype='object')"
            ]
          },
          "metadata": {},
          "execution_count": 20
        }
      ]
    },
    {
      "cell_type": "markdown",
      "source": [
        "Ponekad je potrebno promeniti naziv kolone tabele. Da bi to uradili kristimo sledeću naredbu\n",
        "\n",
        "naziv_tabele.rename(columns = {'old_col1':'new_col1', 'old_col2':'new_col2'}, inplace = True)\n",
        "\n",
        "U primeru koji sledi promenićemo naziv kolone Country (or dependent territory) u naziv Country"
      ],
      "metadata": {
        "id": "09-BeWu9CEjV"
      }
    },
    {
      "cell_type": "code",
      "source": [
        "zemlje_sveta.rename(columns = {'Country (or dependent territory)':'Country'}, inplace = True)\n",
        "zemlje_sveta.columns"
      ],
      "metadata": {
        "colab": {
          "base_uri": "https://localhost:8080/"
        },
        "id": "ih8Bo4AJAvVn",
        "outputId": "fe4dc371-67e4-4c14-dbe0-e4ccf91b2765"
      },
      "execution_count": 23,
      "outputs": [
        {
          "output_type": "execute_result",
          "data": {
            "text/plain": [
              "Index(['Rank', 'Country', 'Population', 'Date', '% of world'], dtype='object')"
            ]
          },
          "metadata": {},
          "execution_count": 23
        }
      ]
    },
    {
      "cell_type": "markdown",
      "source": [
        "Zadatak1. Promeni naziv kolone % of world u naziv population_procent"
      ],
      "metadata": {
        "id": "JAL9wcHvDK9S"
      }
    },
    {
      "cell_type": "code",
      "source": [
        ""
      ],
      "metadata": {
        "id": "btERlU_cDd4i"
      },
      "execution_count": null,
      "outputs": []
    }
  ]
}