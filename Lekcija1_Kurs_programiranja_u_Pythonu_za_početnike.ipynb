{
  "nbformat": 4,
  "nbformat_minor": 0,
  "metadata": {
    "colab": {
      "name": "Lekcija1-Kurs  programiranja u Pythonu za početnike",
      "provenance": [],
      "collapsed_sections": [],
      "authorship_tag": "ABX9TyM0U+Pfy/tFjuP/fZzcAdVg",
      "include_colab_link": true
    },
    "kernelspec": {
      "name": "python3",
      "display_name": "Python 3"
    },
    "language_info": {
      "name": "python"
    }
  },
  "cells": [
    {
      "cell_type": "markdown",
      "metadata": {
        "id": "view-in-github",
        "colab_type": "text"
      },
      "source": [
        "<a href=\"https://colab.research.google.com/github/BrankoGavrilovic/pajton-za-ucenike-es/blob/main/Lekcija1_Kurs_programiranja_u_Pythonu_za_po%C4%8Detnike.ipynb\" target=\"_parent\"><img src=\"https://colab.research.google.com/assets/colab-badge.svg\" alt=\"Open In Colab\"/></a>"
      ]
    },
    {
      "cell_type": "markdown",
      "source": [
        "# **Kratak kurs Phyton-a**\n",
        "# Dobrodošli na  kratak kurs programiranja u programskom jeziku Phyton.Lekcija 1\n",
        "Cilj koji želimo Da postignemo je da naučimo osnove programskog jezika Python.\n",
        "\n",
        "---\n",
        "\n"
      ],
      "metadata": {
        "id": "W4LeqzH3Volo"
      }
    },
    {
      "cell_type": "markdown",
      "source": [
        "Kroz ovaj kurs naučićemo osnovne koncepte programiranja kroz nastavu i primenu u matematici.Namenjen je apsolutnim početnicima u programiranju. Materijal koji ćemo koristiti kao dodatni nalazi se na sajtu fondacije petlja. Pristup sledećim linkom\n",
        "https://petljamediastorage.blob.core.windows.net/root/Media/Default/Help/cheatsheet.pdf "
      ],
      "metadata": {
        "id": "A9ItMikHXBWc"
      }
    },
    {
      "cell_type": "code",
      "source": [
        ""
      ],
      "metadata": {
        "id": "rAFlYHyOGxh3"
      },
      "execution_count": null,
      "outputs": []
    },
    {
      "cell_type": "markdown",
      "source": [
        "Krenimo redom.Phyton kao kalkulator.\n"
      ],
      "metadata": {
        "id": "ZS8_j7GYXpHh"
      }
    },
    {
      "cell_type": "code",
      "source": [
        "3+5-2*2"
      ],
      "metadata": {
        "id": "NSCa2kIDXnVG"
      },
      "execution_count": null,
      "outputs": []
    },
    {
      "cell_type": "markdown",
      "source": [
        "Isti rezultat imamo i primenom funkcije za štampanje print(argument)"
      ],
      "metadata": {
        "id": "NJEIBbsEKCyJ"
      }
    },
    {
      "cell_type": "code",
      "source": [
        "print(3+5-2*2)\n",
        "print(\"Zdravo Svete\")\n",
        "print(\"Ana\"+ \" Voli\"+ \" Milovana\")\n"
      ],
      "metadata": {
        "id": "4dxHS3zFKPoW"
      },
      "execution_count": null,
      "outputs": []
    },
    {
      "cell_type": "markdown",
      "source": [
        "Sa operatorom = dodeljujemo vrednost promenjivoj.Pogledajmo primer."
      ],
      "metadata": {
        "id": "a5ukDWYYMamy"
      }
    },
    {
      "cell_type": "code",
      "source": [
        "a=3  # Uočimo da je tip promenjive a ceo broj- integer\n",
        "b=\"Ana\"  # Uočimo da je tip promenjive b tekst- string\n",
        "c=3.15 # Uočimo da je tip promenjive c realan broj - float\n",
        "d=\"Marko\"\n",
        "print(a*c)# Rezultat će biti realan broj \n",
        "print(b+d) # Stringove možemo sabirati\n",
        "\n"
      ],
      "metadata": {
        "id": "747nAJ_NMtk2"
      },
      "execution_count": null,
      "outputs": []
    },
    {
      "cell_type": "markdown",
      "source": [
        "Za unos elementa od strane korisnika programa koristi se funkcija input(\"Šta hoćemo od korisnika\").Pogledajmo sledeći primer"
      ],
      "metadata": {
        "id": "P7ij_udbLpmz"
      }
    },
    {
      "cell_type": "code",
      "source": [
        "a=input(\"Unesi prvu reč: \")\n",
        "b=input(\" Unesi drugu reč: \")\n",
        "a+b"
      ],
      "metadata": {
        "id": "lVbQHqBHMCeD"
      },
      "execution_count": null,
      "outputs": []
    },
    {
      "cell_type": "code",
      "source": [
        "a=input(\"Unesi prvi broj: \")\n",
        "b=input(\" Unesi drugi broj: \")\n",
        "a+b # rezultat neće biti očekivan jer je tip sa ulaza uvek string"
      ],
      "metadata": {
        "id": "fgAbgvG8QWyu"
      },
      "execution_count": null,
      "outputs": []
    },
    {
      "cell_type": "code",
      "source": [
        "#Podaci sa ulaza su uvek stringovi ali se mogu konvertovati u željeni format na sledeći način.\n",
        "a=int(input(\"Unesi ceo broj \"))\n",
        "b=int(input(\"Unesi ceo broj \"))\n",
        "a+b # rezultat će biti ono što hoćemo"
      ],
      "metadata": {
        "id": "bTOdFSznPrvC"
      },
      "execution_count": null,
      "outputs": []
    },
    {
      "cell_type": "markdown",
      "source": [
        "Sledeći primer pokazuje kak se radi sa realnim brojevima"
      ],
      "metadata": {
        "id": "pT3pueTlRn-1"
      }
    },
    {
      "cell_type": "code",
      "source": [
        "print(5/2)\n",
        "print(2.33+2.34)\n",
        "print(1/3) # dobijamo peiodičan broj\n",
        "round(1/3,2) # funkcija round zaokružuje realan broj na  decimale (Broj decimala se stavlja kao drugi argument)"
      ],
      "metadata": {
        "id": "tQCG-gFlRxDt"
      },
      "execution_count": null,
      "outputs": []
    },
    {
      "cell_type": "markdown",
      "source": [
        "Zadatak 1. \n",
        "Napiši program koji od korisnika traži da unese tri broja sa ulaza a zatim izračunava aritmetičku sredinu tih brojeva zaokruženu na dve decimale. "
      ],
      "metadata": {
        "id": "uKKQJ3kySqaC"
      }
    },
    {
      "cell_type": "code",
      "source": [
        ""
      ],
      "metadata": {
        "id": "9-y9zadWSpYQ"
      },
      "execution_count": null,
      "outputs": []
    },
    {
      "cell_type": "markdown",
      "source": [
        "Primer (Prost kamatni račun) . Napiši program koji od korisnika traži da unese početnu sumu novca,\n",
        "broj godina kao i kamatnu stopu i izračunava vrednost kamate kod prostog kamtnog računa.\n",
        "( Da se prisetimo: Formula za izračunavanje kamate kod prostog kamatnog računa glasi I=K*p*g/100 gde je K kapital , p kamatna stopa a g broj godina) "
      ],
      "metadata": {
        "id": "DYcddoriROlB"
      }
    },
    {
      "cell_type": "code",
      "source": [
        "glavnica=int(input(\"Unesi glavnicu \"))\n",
        "stopa=float(input(\"Unesi kamatnu stopu \"))\n",
        "godine=int(input(\"Unesi broj godina \"))\n",
        "kamata=glavnica*stopa*godine/100\n",
        "print(\"Vrednost kamate koju donosi  uneta suma  uz unete uslove iznosi \" ,kamata)# pogledaj kako štampamo zajedno string i promenjivu"
      ],
      "metadata": {
        "id": "ASQOCqVcS1AP"
      },
      "execution_count": null,
      "outputs": []
    },
    {
      "cell_type": "markdown",
      "source": [
        "Zadatak 2. Napiši program koji od korisnika traži da unese početnu sumu novca, broj dana kao i kamatnu stopu i izračunava vrednost kamate kod prostog kamtnog računa. ( Da se prisetimo: Formula za izračunavanje kamate kod prostog kamatnog računa ako je vreme dato u danima glasi I=Kpd/36000 (K,360) gde je K kapital , p kamatna stopa a d broj dana)"
      ],
      "metadata": {
        "id": "zdxfOAEFWW7T"
      }
    },
    {
      "cell_type": "code",
      "source": [
        ""
      ],
      "metadata": {
        "id": "6lC3-83AW5Fh"
      },
      "execution_count": null,
      "outputs": []
    },
    {
      "cell_type": "markdown",
      "source": [
        "U GOOGLE COLAB okruženju možemo unositi podatke i  pomoću formi. To radimo kroz opciju INSERT->ADD FORM FIELD nakon čega dobijamo dijalog prozor gde biramo željenu formu za unos.Ovo je dobar način da se učenici upoznaju sa GUI programiranjem."
      ],
      "metadata": {
        "id": "nZfGtjd6Z31a"
      }
    },
    {
      "cell_type": "code",
      "source": [
        "prvi_broj =  0#@param {type:\"number\"}\n",
        "drugi_broj =  0#@param {type:\"number\"}\n",
        "print(prvi_broj+drugi_broj)\n",
        "\n"
      ],
      "metadata": {
        "id": "Q4f06NQNaeom"
      },
      "execution_count": null,
      "outputs": []
    },
    {
      "cell_type": "markdown",
      "source": [
        "Zadatak 3. Napravi formu za unos glavnice,kamatne stope i broja meseci a zatim izračunava pripadajuću kamatu na taj iznos.Forma za unos glavnice treba da bude klasična input forma,kamatna stopa da bude slajder forma sa vrednostima od 2 do 6 % a forma za unos meseci treba da bude dropdown forma.Nakon unosa potrebno je da se ispisuje kamata koju nam donosi taj iznos.Pogledaj sliku ispod."
      ],
      "metadata": {
        "id": "ZaljlfvQfNG-"
      }
    },
    {
      "cell_type": "code",
      "source": [
        ""
      ],
      "metadata": {
        "id": "sLPnanuRjSVw"
      },
      "execution_count": null,
      "outputs": []
    },
    {
      "cell_type": "code",
      "source": [
        "glavnica = 1000 #@param {type:\"number\"}\n",
        "kamatna_stopa = 2.5 #@param {type:\"slider\", min:2, max:6, step:0.25}\n",
        "broj_meseci = \"5\" #@param [\"1\", \"2\", \"3\", \"4\", \"5\"] {allow-input: true}\n",
        "meseci=int(broj_meseci)\n",
        "kamata=glavnica*kamatna_stopa*meseci/1200\n",
        "kamata\n",
        "\n"
      ],
      "metadata": {
        "cellView": "form",
        "id": "4liS2EAVhvYP"
      },
      "execution_count": null,
      "outputs": []
    },
    {
      "cell_type": "code",
      "source": [
        ""
      ],
      "metadata": {
        "id": "DqXJQXejhaz7"
      },
      "execution_count": null,
      "outputs": []
    }
  ]
}